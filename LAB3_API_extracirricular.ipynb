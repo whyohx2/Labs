{
 "cells": [
  {
   "cell_type": "markdown",
   "metadata": {},
   "source": [
    "## API lab\n",
    "\n",
    "### Introduction:\n",
    "\n",
    "While many data sets are provided though downloadable files, some are provided through application programming interface (API) which allows the code to access some data without downloading the entire dataset.\n",
    "\n",
    "APIs provide sets of functions and procedures that allow accessing the features or data from an application or other service.\n",
    "\n",
    "\n",
    "#### REST API\n",
    "REST is essentially a set of useful conventions for structuring a web API. 'Web API' means an API that you interact with over HTTP, making requests to specific URLs, and often getting relevant data back in the response.\n",
    "\n",
    "### Uses\n",
    "- Scraping real time information - useful for example for accessing travel route info from mapping applications, social media feed. And any other data that being updated in real time or is changing quickly. Another example of this is stock price data. It doesn’t really make sense to regenerate a data set and download it every minute \n",
    "- Getting only the desired tables through filtering instead of downloading the entire data sets. Reddit comments are one example. It doesn’t make much sense (plus won't be permitted) to download the entire Reddit database if we want only some information\n",
    "\n",
    "### General Terminology\n",
    "\n",
    "#### Types of requests\n",
    "characterize what action we are going to take by referring to the API\n",
    "\n",
    "- GET: retrieve information (like search results). This is the most common type of request. Using it, we can get the data we are interested in from those that the API is ready to share.\n",
    "- POST: adds new data to the server. Using this type of request, you can, for example, add a new item to your inventory.\n",
    "- PUT: changes existing information. For example, using this type of request, it would be possible to change the color or value of an existing product.\n",
    "- DELETE: deletes existing information\n",
    "\n",
    "#### Status codes\n",
    "briefly describe the result of the call.\n",
    "\n",
    "- 200 – OK. The request was successful. The answer itself depends on the method used (GET, POST, etc.) and the API specification.\n",
    "- 204 – No Content. The server successfully processed the request and did not return any content.\n",
    "- 301 – Moved Permanently. The server responds that the requested page (endpoint) has been moved to another address and redirects to this address.\n",
    "- 400 – Bad Request. The server cannot process the request because the client-side errors (incorrect request format).\n",
    "- 401 – Unauthorized. Occurs when authentication was failed, due to incorrect credentials or even their absence.\n",
    "- 403 – Forbidden. Access to the specified resource is denied.\n",
    "- 404 – Not Found. The requested resource was not found on the server.\n",
    "- 500 – Internal Server Error. Occurs when an unknown error has occurred on the server.\n",
    "\n",
    "#### Endpoints\n",
    "Usually, an Endpoint is a specific address (for example, https://weather-in-london.com/forecast), by referring to which you get access to certain features/data (in this example above – the weather forecast for London). Commonly, the name (address) of the endpoint corresponds to the functionality it provides."
   ]
  },
  {
   "cell_type": "markdown",
   "metadata": {},
   "source": [
    "### HereMap API\n",
    "Provides mapping, location data and routing information services worldwide. Routing info is available for transit, walking, driving, bike modes.\n"
   ]
  },
  {
   "cell_type": "code",
   "execution_count": 5,
   "metadata": {},
   "outputs": [],
   "source": [
    "import pandas as pd\n",
    "import glob #Unix style pathname pattern expansion\n",
    "import numpy as np\n",
    "from dateutil import parser #powerful extensions to datetime; offers a generic date/time string parser\n",
    "import time\n",
    "from tqdm import tqdm #Customisable progressbar for iterators\n",
    "try: #spelling depends on enviroment version \n",
    "    import urllib2 as urllib #URL handling module\n",
    "except ImportError:\n",
    "    import urllib.request as urllib\n",
    "import json\n",
    "import geopandas as gpd\n",
    "import sys\n",
    "from IPython.display import clear_output #Clears the output of the current cell receiving output\n",
    "import requests #the module for making HTTP requests in Python; provides GET funcionality"
   ]
  },
  {
   "cell_type": "markdown",
   "metadata": {},
   "source": [
    "#### Request API key by creating free account \n",
    "\n",
    "https://developer.here.com/sign-up?create=Freemium-Basic&keepState=true&step=account\n",
    "\n",
    "(We recommend not to put your credit card info, all the API services will work for free without having to put your card)\n",
    "\n",
    "1. After signing in, click on 'Start with REST APIs' part. Follow the instructions in the 'Access Manager' to create the app. \n",
    "2. After setting up the app, create the API key in the 'Credentials' section.\n",
    "\n",
    "Note: For some API services, you may need an additional step to create a 'Project'. Please follow the below instructions to create a project and link your app to it. (not needed for this notebook/assignment)\n",
    "\n",
    "1. Open the Projects Manager from the launcher.\n",
    "2. Click Create new project and name the project.\n",
    "3. In the 'Services' section, search for the services you'd like to access with the API. (eg. Maps services)\n",
    "4. Link your app from the \"Access Manager\" tab to the above project and start using the API services.\n"
   ]
  },
  {
   "cell_type": "markdown",
   "metadata": {},
   "source": [
    "#### Example 1: getting driving time"
   ]
  },
  {
   "cell_type": "markdown",
   "metadata": {},
   "source": [
    "#### API endpoint\n",
    "https://developer.here.com/documentation/routing-api/8.3.1/dev_guide/topics/send-request.html"
   ]
  },
  {
   "cell_type": "markdown",
   "metadata": {},
   "source": [
    "#### Sample request\n",
    "\n",
    "An API request needs an endpoint link with API key to fetch data. In some cases, you may also need appID and appCode to make a request. When you make a account in a particular API service, you will be asked to create and name your app. When you finish this step, you will be provided with a unique API key together with appID and appCode as a unique identifier for your app.\n",
    "\n",
    "Please not that various APIs have certain restrictions on their usage. Please make sure to read the the usage terms before making acccount (especially if you are asked to enter your payment info beforehand!)\n",
    "\n",
    "HereMap API has 250k free requests per month. (And it does not ask for credit card info when you create an account)\n",
    "\n",
    "Also, please note the below example uses an API key for this lab's demonstration purposes only. Please create your HereMap account and get your unique API key when attempting the lab or homeworks yourself.\n",
    "\n",
    "retreive a driving route between the two given points"
   ]
  },
  {
   "cell_type": "code",
   "execution_count": 6,
   "metadata": {},
   "outputs": [],
   "source": [
    "# enter your api key from HereMap\n",
    "apiKey = ''\n",
    "\n",
    "lon_pickup, lat_pickup = -73.972136, 40.744301 ##origin: A point in Manhattan (around E 35th street)\n",
    "lon_dropoff, lat_dropoff = -74.172945, 40.680108 # destination: Newark airport"
   ]
  },
  {
   "cell_type": "markdown",
   "metadata": {},
   "source": [
    "#### Routing API info and documentation\n",
    "https://developer.here.com/documentation/routing-api/dev_guide/topics/use-cases/calculate-route.html\n",
    "\n",
    "Note the driving API endpoint is 'https://router.hereapi.com/v8/routes?transportMode=car&origin={},{}&destination={},{}&return=summary&apikey={}', which essentially gives the driving directions from origin to destination together with a summary of the whole trip.\n",
    "\n",
    "For the above origin-destination lat-longs, the endpoint will look like\n",
    "\n",
    "'https://router.hereapi.com/v8/routes?transportMode=car&origin=40.744301,-73.972136&destination=40.680108,-74.172945&return=summary&apikey={}'\n",
    "\n",
    "Basically, the origin lat-long go in after the 'waypoint0=geo!' field and destination lat-long go in after 'waypoint1=geo!' field. Instead of manually putting these lat-long in the code, the pythonic way to do this is by the 'format' function. Wherever we need to insert variables, we put '{}' in the url and then specify the variables in their respective order of appearing in the url in the 'format' command.\n",
    "\n"
   ]
  },
  {
   "cell_type": "code",
   "execution_count": 7,
   "metadata": {},
   "outputs": [
    {
     "name": "stdout",
     "output_type": "stream",
     "text": [
      "https://router.hereapi.com/v8/routes?transportMode=car&origin=40.744301,-73.972136&destination=40.680108,-74.172945&return=summary&apikey=TJqaLdkovbaRdGPPCOmO8egBGJALf56akxUCHJzJmM4\n"
     ]
    }
   ],
   "source": [
    "url = str('https://router.hereapi.com/v8/routes?transportMode=car&origin={},{}&destination={},{}&return=summary&apikey={}'.format(\n",
    "    lat_pickup, lon_pickup, lat_dropoff, lon_dropoff, apiKey))\n",
    "print(url)"
   ]
  },
  {
   "cell_type": "markdown",
   "metadata": {},
   "source": [
    "Now we'll make a request with the below command"
   ]
  },
  {
   "cell_type": "code",
   "execution_count": 8,
   "metadata": {},
   "outputs": [],
   "source": [
    "data = urllib.urlopen(url).read().decode('utf-8')\n",
    "data = json.loads(data)"
   ]
  },
  {
   "cell_type": "markdown",
   "metadata": {},
   "source": [
    "The fetched data gives driving directions together with a summary of the whole trip"
   ]
  },
  {
   "cell_type": "code",
   "execution_count": 9,
   "metadata": {},
   "outputs": [
    {
     "data": {
      "text/plain": [
       "{'routes': [{'id': '7d147faa-7c2b-4273-94c1-a37d4b6ebc7b',\n",
       "   'sections': [{'id': '52eb2e8a-be7e-4c16-8abf-311004ecfb06',\n",
       "     'type': 'vehicle',\n",
       "     'departure': {'time': '2023-09-21T01:40:34-04:00',\n",
       "      'place': {'type': 'place',\n",
       "       'location': {'lat': 40.7441211, 'lng': -73.9722708},\n",
       "       'originalLocation': {'lat': 40.744301, 'lng': -73.9721361}}},\n",
       "     'arrival': {'time': '2023-09-21T02:12:44-04:00',\n",
       "      'place': {'type': 'place',\n",
       "       'location': {'lat': 40.6790562, 'lng': -74.1703941},\n",
       "       'originalLocation': {'lat': 40.6801079, 'lng': -74.172945}}},\n",
       "     'summary': {'duration': 1930, 'length': 24876, 'baseDuration': 1707},\n",
       "     'transport': {'mode': 'car'}}]}]}"
      ]
     },
     "execution_count": 9,
     "metadata": {},
     "output_type": "execute_result"
    }
   ],
   "source": [
    "data"
   ]
  },
  {
   "cell_type": "markdown",
   "metadata": {},
   "source": [
    "The retrived output contains all information in the 'routes' key, including the travel time ('duration') and travel distance ('length')\n"
   ]
  },
  {
   "cell_type": "markdown",
   "metadata": {},
   "source": [
    "Let's print the time and distance of the whole trip"
   ]
  },
  {
   "cell_type": "code",
   "execution_count": 10,
   "metadata": {},
   "outputs": [
    {
     "data": {
      "text/plain": [
       "1930"
      ]
     },
     "execution_count": 10,
     "metadata": {},
     "output_type": "execute_result"
    }
   ],
   "source": [
    "# get travel time in seconds\n",
    "data['routes'][0]['sections'][0]['summary']['duration']\n"
   ]
  },
  {
   "cell_type": "code",
   "execution_count": 11,
   "metadata": {},
   "outputs": [
    {
     "data": {
      "text/plain": [
       "24876"
      ]
     },
     "execution_count": 11,
     "metadata": {},
     "output_type": "execute_result"
    }
   ],
   "source": [
    "# travel distance in meters\n",
    "data['routes'][0]['sections'][0]['summary']['length']"
   ]
  },
  {
   "cell_type": "markdown",
   "metadata": {},
   "source": [
    "#### Example 2: getting transit time"
   ]
  },
  {
   "cell_type": "markdown",
   "metadata": {},
   "source": [
    "#### API info and documentation\n",
    "https://developer.here.com/documentation/public-transit/dev_guide/quick-start.html\n"
   ]
  },
  {
   "cell_type": "code",
   "execution_count": 12,
   "metadata": {
    "scrolled": true
   },
   "outputs": [
    {
     "data": {
      "text/plain": [
       "{'routes': [{'id': 'R0',\n",
       "   'sections': [{'id': 'R0-S0',\n",
       "     'type': 'pedestrian',\n",
       "     'departure': {'time': '2023-09-21T01:40:00-04:00',\n",
       "      'place': {'type': 'place',\n",
       "       'location': {'lat': 40.744301, 'lng': -73.972136}}},\n",
       "     'arrival': {'time': '2023-09-21T01:57:00-04:00',\n",
       "      'place': {'name': '33 St',\n",
       "       'type': 'station',\n",
       "       'location': {'lat': 40.746081, 'lng': -73.982076},\n",
       "       'id': '717080436'}},\n",
       "     'transport': {'mode': 'pedestrian'}},\n",
       "    {'id': 'R0-S1',\n",
       "     'type': 'transit',\n",
       "     'departure': {'time': '2023-09-21T01:57:00-04:00',\n",
       "      'place': {'name': '33 St',\n",
       "       'type': 'station',\n",
       "       'location': {'lat': 40.746081, 'lng': -73.982076},\n",
       "       'id': '717080436'},\n",
       "      'delay': 0},\n",
       "     'arrival': {'time': '2023-09-21T02:10:00-04:00',\n",
       "      'place': {'name': 'Fulton St',\n",
       "       'type': 'station',\n",
       "       'location': {'lat': 40.710368, 'lng': -74.009509},\n",
       "       'id': '717080322'},\n",
       "      'delay': 0},\n",
       "     'transport': {'mode': 'subway',\n",
       "      'name': '4',\n",
       "      'category': 'Subway, Metro',\n",
       "      'color': '#00933C',\n",
       "      'headsign': 'New Lots Av',\n",
       "      'shortName': '4',\n",
       "      'longName': 'Lexington Avenue Express'},\n",
       "     'agency': {'id': '10327_9f822fe',\n",
       "      'name': 'MTA New York City Transit',\n",
       "      'website': 'http://www.mta.info'}},\n",
       "    {'id': 'R0-S2',\n",
       "     'type': 'pedestrian',\n",
       "     'departure': {'time': '2023-09-21T02:10:00-04:00',\n",
       "      'place': {'name': 'Fulton St',\n",
       "       'type': 'station',\n",
       "       'location': {'lat': 40.710368, 'lng': -74.009509},\n",
       "       'id': '717080322'}},\n",
       "     'arrival': {'time': '2023-09-21T02:14:00-04:00',\n",
       "      'place': {'type': 'place',\n",
       "       'location': {'lat': 40.708592, 'lng': -74.008704}}},\n",
       "     'transport': {'mode': 'pedestrian'}}]}]}"
      ]
     },
     "execution_count": 12,
     "metadata": {},
     "output_type": "execute_result"
    }
   ],
   "source": [
    "lon_pickup, lat_pickup = -73.972136, 40.744301\n",
    "lon_dropoff, lat_dropoff = -74.008704, 40.708592\n",
    "\n",
    "# API endpoint link\n",
    "url = str('https://transit.router.hereapi.com/v8/routes?apiKey={}&origin={},{}&destination={},{}'.format(apiKey, lat_pickup, lon_pickup, \n",
    "                                                                                                        lat_dropoff, lon_dropoff))\n",
    "\n",
    "data = urllib.urlopen(url).read().decode('utf-8')\n",
    "data = json.loads(data)\n",
    "data"
   ]
  },
  {
   "cell_type": "markdown",
   "metadata": {},
   "source": [
    "Note that retrieved output keys are different from what we obtained in case of driving direction request. \n",
    "\n",
    "Here all data is present in the 'routes' key with information regarding intermediate stations. If we are interested in overall travel time, we'll need to access the first and last 'routes' and get the difference between the last arrival time and first departure time.\n",
    "\n",
    "Important: You may get the retrieved repsonse other than above if any transit route is not available from specified origin to destination. \n",
    "Invalid responses are 'Timestamp out of validity period' and 'No result found'"
   ]
  },
  {
   "cell_type": "code",
   "execution_count": 13,
   "metadata": {},
   "outputs": [
    {
     "data": {
      "text/plain": [
       "datetime.timedelta(seconds=2040)"
      ]
     },
     "execution_count": 13,
     "metadata": {},
     "output_type": "execute_result"
    }
   ],
   "source": [
    "# get travel time - subtract arrival time from last route and departure time from first route\n",
    "\n",
    "(parser.isoparse(data['routes'][0]['sections'][-1]['arrival']['time']) \n",
    "    - parser.isoparse(data['routes'][0]['sections'][0]['departure']['time']))"
   ]
  },
  {
   "cell_type": "code",
   "execution_count": 14,
   "metadata": {},
   "outputs": [
    {
     "data": {
      "text/plain": [
       "'0:34:00'"
      ]
     },
     "execution_count": 14,
     "metadata": {},
     "output_type": "execute_result"
    }
   ],
   "source": [
    "# convert to minutes\n",
    "\n",
    "str(parser.isoparse(data['routes'][0]['sections'][-1]['arrival']['time']) \n",
    "    - parser.isoparse(data['routes'][0]['sections'][0]['departure']['time']))"
   ]
  },
  {
   "cell_type": "markdown",
   "metadata": {},
   "source": [
    "Travel time"
   ]
  },
  {
   "cell_type": "markdown",
   "metadata": {},
   "source": [
    "## Now access information for a sample of selected origin-destination points"
   ]
  },
  {
   "cell_type": "code",
   "execution_count": 15,
   "metadata": {},
   "outputs": [
    {
     "data": {
      "text/html": [
       "<div>\n",
       "<style scoped>\n",
       "    .dataframe tbody tr th:only-of-type {\n",
       "        vertical-align: middle;\n",
       "    }\n",
       "\n",
       "    .dataframe tbody tr th {\n",
       "        vertical-align: top;\n",
       "    }\n",
       "\n",
       "    .dataframe thead th {\n",
       "        text-align: right;\n",
       "    }\n",
       "</style>\n",
       "<table border=\"1\" class=\"dataframe\">\n",
       "  <thead>\n",
       "    <tr style=\"text-align: right;\">\n",
       "      <th></th>\n",
       "      <th>LocationID</th>\n",
       "      <th>lon_pickup</th>\n",
       "      <th>lat_pickup</th>\n",
       "      <th>LocationID2</th>\n",
       "      <th>lon_dropoff</th>\n",
       "      <th>lat_dropoff</th>\n",
       "    </tr>\n",
       "  </thead>\n",
       "  <tbody>\n",
       "    <tr>\n",
       "      <th>0</th>\n",
       "      <td>1</td>\n",
       "      <td>-74.174000</td>\n",
       "      <td>40.691831</td>\n",
       "      <td>145</td>\n",
       "      <td>-73.948891</td>\n",
       "      <td>40.745379</td>\n",
       "    </tr>\n",
       "    <tr>\n",
       "      <th>1</th>\n",
       "      <td>2</td>\n",
       "      <td>-73.831299</td>\n",
       "      <td>40.616745</td>\n",
       "      <td>203</td>\n",
       "      <td>-73.739473</td>\n",
       "      <td>40.657853</td>\n",
       "    </tr>\n",
       "    <tr>\n",
       "      <th>2</th>\n",
       "      <td>3</td>\n",
       "      <td>-73.847422</td>\n",
       "      <td>40.864474</td>\n",
       "      <td>77</td>\n",
       "      <td>-73.895364</td>\n",
       "      <td>40.666559</td>\n",
       "    </tr>\n",
       "    <tr>\n",
       "      <th>3</th>\n",
       "      <td>4</td>\n",
       "      <td>-73.976968</td>\n",
       "      <td>40.723752</td>\n",
       "      <td>158</td>\n",
       "      <td>-74.008984</td>\n",
       "      <td>40.735035</td>\n",
       "    </tr>\n",
       "    <tr>\n",
       "      <th>4</th>\n",
       "      <td>5</td>\n",
       "      <td>-74.188484</td>\n",
       "      <td>40.552659</td>\n",
       "      <td>123</td>\n",
       "      <td>-73.964334</td>\n",
       "      <td>40.599954</td>\n",
       "    </tr>\n",
       "  </tbody>\n",
       "</table>\n",
       "</div>"
      ],
      "text/plain": [
       "   LocationID  lon_pickup  lat_pickup  LocationID2  lon_dropoff  lat_dropoff\n",
       "0           1  -74.174000   40.691831          145   -73.948891    40.745379\n",
       "1           2  -73.831299   40.616745          203   -73.739473    40.657853\n",
       "2           3  -73.847422   40.864474           77   -73.895364    40.666559\n",
       "3           4  -73.976968   40.723752          158   -74.008984    40.735035\n",
       "4           5  -74.188484   40.552659          123   -73.964334    40.599954"
      ]
     },
     "execution_count": 15,
     "metadata": {},
     "output_type": "execute_result"
    }
   ],
   "source": [
    "# sample points lat-longs\n",
    "\n",
    "df = pd.read_csv('https://raw.githubusercontent.com/CUSP2020PUI/Data/master/samplePoints.csv')\n",
    "df.head()"
   ]
  },
  {
   "cell_type": "code",
   "execution_count": 16,
   "metadata": {},
   "outputs": [
    {
     "data": {
      "text/plain": [
       "263"
      ]
     },
     "execution_count": 16,
     "metadata": {},
     "output_type": "execute_result"
    }
   ],
   "source": [
    "len(df) ##one random point per each zip code"
   ]
  },
  {
   "cell_type": "markdown",
   "metadata": {},
   "source": [
    "Function for getting driving time for a dataframe of above type"
   ]
  },
  {
   "cell_type": "code",
   "execution_count": 17,
   "metadata": {},
   "outputs": [],
   "source": [
    "def driving(file, apiKey): \n",
    "    '''\n",
    "    Input: the file that contain origin-destination lan/long information; keys from Map\n",
    "    Output: list of driving times corresponding the input O-D pairs\n",
    "    '''\n",
    "    duration_list= []  # list for storing times\n",
    "    for index, row in tqdm(file.iterrows()): # iterating through all rows of sample points\n",
    "        lon_pickup = row['lon_pickup']  \n",
    "        lat_pickup = row['lat_pickup']\n",
    "        lon_dropoff = row['lon_dropoff']\n",
    "        lat_dropoff = row['lat_dropoff']\n",
    "        \n",
    "        # specifying origin-desination lat-longs in the endpoint and making request\n",
    "        url = str('https://router.hereapi.com/v8/routes?transportMode=car&origin={},{}&destination={},{}&return=summary&apikey={}'.format(lat_pickup, lon_pickup, lat_dropoff, lon_dropoff, apiKey))\n",
    "        data = urllib.urlopen(url).read().decode('utf-8')\n",
    "        data = json.loads(data)\n",
    "        \n",
    "        # append travel time to 'duration' list, nan if no travel time retrieved\n",
    "        try:    \n",
    "            duration = data['routes'][0]['sections'][0]['summary']['duration']\n",
    "        except:\n",
    "            duration = np.nan\n",
    "            \n",
    "        duration_list.append(duration)\n",
    "\n",
    "    return duration_list  "
   ]
  },
  {
   "cell_type": "markdown",
   "metadata": {},
   "source": [
    "Passing 10 random O-D pairs"
   ]
  },
  {
   "cell_type": "code",
   "execution_count": 18,
   "metadata": {
    "scrolled": true
   },
   "outputs": [
    {
     "data": {
      "text/html": [
       "<div>\n",
       "<style scoped>\n",
       "    .dataframe tbody tr th:only-of-type {\n",
       "        vertical-align: middle;\n",
       "    }\n",
       "\n",
       "    .dataframe tbody tr th {\n",
       "        vertical-align: top;\n",
       "    }\n",
       "\n",
       "    .dataframe thead th {\n",
       "        text-align: right;\n",
       "    }\n",
       "</style>\n",
       "<table border=\"1\" class=\"dataframe\">\n",
       "  <thead>\n",
       "    <tr style=\"text-align: right;\">\n",
       "      <th></th>\n",
       "      <th>LocationID</th>\n",
       "      <th>lon_pickup</th>\n",
       "      <th>lat_pickup</th>\n",
       "      <th>LocationID2</th>\n",
       "      <th>lon_dropoff</th>\n",
       "      <th>lat_dropoff</th>\n",
       "    </tr>\n",
       "  </thead>\n",
       "  <tbody>\n",
       "    <tr>\n",
       "      <th>0</th>\n",
       "      <td>110</td>\n",
       "      <td>-74.128342</td>\n",
       "      <td>40.545780</td>\n",
       "      <td>254</td>\n",
       "      <td>-73.858948</td>\n",
       "      <td>40.882157</td>\n",
       "    </tr>\n",
       "    <tr>\n",
       "      <th>1</th>\n",
       "      <td>51</td>\n",
       "      <td>-73.828264</td>\n",
       "      <td>40.873973</td>\n",
       "      <td>92</td>\n",
       "      <td>-73.828859</td>\n",
       "      <td>40.761102</td>\n",
       "    </tr>\n",
       "    <tr>\n",
       "      <th>2</th>\n",
       "      <td>166</td>\n",
       "      <td>-73.961764</td>\n",
       "      <td>40.809457</td>\n",
       "      <td>234</td>\n",
       "      <td>-73.990458</td>\n",
       "      <td>40.740337</td>\n",
       "    </tr>\n",
       "    <tr>\n",
       "      <th>3</th>\n",
       "      <td>207</td>\n",
       "      <td>-73.899353</td>\n",
       "      <td>40.763986</td>\n",
       "      <td>248</td>\n",
       "      <td>-73.872289</td>\n",
       "      <td>40.834165</td>\n",
       "    </tr>\n",
       "    <tr>\n",
       "      <th>4</th>\n",
       "      <td>195</td>\n",
       "      <td>-74.009178</td>\n",
       "      <td>40.675549</td>\n",
       "      <td>68</td>\n",
       "      <td>-73.999917</td>\n",
       "      <td>40.748428</td>\n",
       "    </tr>\n",
       "    <tr>\n",
       "      <th>5</th>\n",
       "      <td>251</td>\n",
       "      <td>-74.125348</td>\n",
       "      <td>40.616880</td>\n",
       "      <td>114</td>\n",
       "      <td>-73.997380</td>\n",
       "      <td>40.728340</td>\n",
       "    </tr>\n",
       "    <tr>\n",
       "      <th>6</th>\n",
       "      <td>71</td>\n",
       "      <td>-73.937966</td>\n",
       "      <td>40.644288</td>\n",
       "      <td>118</td>\n",
       "      <td>-74.132979</td>\n",
       "      <td>40.586555</td>\n",
       "    </tr>\n",
       "    <tr>\n",
       "      <th>7</th>\n",
       "      <td>139</td>\n",
       "      <td>-73.744234</td>\n",
       "      <td>40.677098</td>\n",
       "      <td>202</td>\n",
       "      <td>-73.949952</td>\n",
       "      <td>40.761900</td>\n",
       "    </tr>\n",
       "    <tr>\n",
       "      <th>8</th>\n",
       "      <td>76</td>\n",
       "      <td>-73.876821</td>\n",
       "      <td>40.660935</td>\n",
       "      <td>240</td>\n",
       "      <td>-73.881978</td>\n",
       "      <td>40.894599</td>\n",
       "    </tr>\n",
       "    <tr>\n",
       "      <th>9</th>\n",
       "      <td>165</td>\n",
       "      <td>-73.956825</td>\n",
       "      <td>40.620924</td>\n",
       "      <td>258</td>\n",
       "      <td>-73.855767</td>\n",
       "      <td>40.688721</td>\n",
       "    </tr>\n",
       "  </tbody>\n",
       "</table>\n",
       "</div>"
      ],
      "text/plain": [
       "   LocationID  lon_pickup  lat_pickup  LocationID2  lon_dropoff  lat_dropoff\n",
       "0         110  -74.128342   40.545780          254   -73.858948    40.882157\n",
       "1          51  -73.828264   40.873973           92   -73.828859    40.761102\n",
       "2         166  -73.961764   40.809457          234   -73.990458    40.740337\n",
       "3         207  -73.899353   40.763986          248   -73.872289    40.834165\n",
       "4         195  -74.009178   40.675549           68   -73.999917    40.748428\n",
       "5         251  -74.125348   40.616880          114   -73.997380    40.728340\n",
       "6          71  -73.937966   40.644288          118   -74.132979    40.586555\n",
       "7         139  -73.744234   40.677098          202   -73.949952    40.761900\n",
       "8          76  -73.876821   40.660935          240   -73.881978    40.894599\n",
       "9         165  -73.956825   40.620924          258   -73.855767    40.688721"
      ]
     },
     "execution_count": 18,
     "metadata": {},
     "output_type": "execute_result"
    }
   ],
   "source": [
    "sample = df.sample(10, random_state=2020)\n",
    "sample.reset_index(drop=True, inplace=True)\n",
    "\n",
    "sample"
   ]
  },
  {
   "cell_type": "markdown",
   "metadata": {},
   "source": [
    "Calling the function to get responses from API"
   ]
  },
  {
   "cell_type": "code",
   "execution_count": 19,
   "metadata": {},
   "outputs": [
    {
     "name": "stderr",
     "output_type": "stream",
     "text": [
      "10it [00:01,  8.88it/s]\n"
     ]
    },
    {
     "data": {
      "text/html": [
       "<div>\n",
       "<style scoped>\n",
       "    .dataframe tbody tr th:only-of-type {\n",
       "        vertical-align: middle;\n",
       "    }\n",
       "\n",
       "    .dataframe tbody tr th {\n",
       "        vertical-align: top;\n",
       "    }\n",
       "\n",
       "    .dataframe thead th {\n",
       "        text-align: right;\n",
       "    }\n",
       "</style>\n",
       "<table border=\"1\" class=\"dataframe\">\n",
       "  <thead>\n",
       "    <tr style=\"text-align: right;\">\n",
       "      <th></th>\n",
       "      <th>LocationID</th>\n",
       "      <th>lon_pickup</th>\n",
       "      <th>lat_pickup</th>\n",
       "      <th>LocationID2</th>\n",
       "      <th>lon_dropoff</th>\n",
       "      <th>lat_dropoff</th>\n",
       "      <th>driving_time</th>\n",
       "    </tr>\n",
       "  </thead>\n",
       "  <tbody>\n",
       "    <tr>\n",
       "      <th>0</th>\n",
       "      <td>110</td>\n",
       "      <td>-74.128342</td>\n",
       "      <td>40.545780</td>\n",
       "      <td>254</td>\n",
       "      <td>-73.858948</td>\n",
       "      <td>40.882157</td>\n",
       "      <td>3877</td>\n",
       "    </tr>\n",
       "    <tr>\n",
       "      <th>1</th>\n",
       "      <td>51</td>\n",
       "      <td>-73.828264</td>\n",
       "      <td>40.873973</td>\n",
       "      <td>92</td>\n",
       "      <td>-73.828859</td>\n",
       "      <td>40.761102</td>\n",
       "      <td>1252</td>\n",
       "    </tr>\n",
       "    <tr>\n",
       "      <th>2</th>\n",
       "      <td>166</td>\n",
       "      <td>-73.961764</td>\n",
       "      <td>40.809457</td>\n",
       "      <td>234</td>\n",
       "      <td>-73.990458</td>\n",
       "      <td>40.740337</td>\n",
       "      <td>1102</td>\n",
       "    </tr>\n",
       "    <tr>\n",
       "      <th>3</th>\n",
       "      <td>207</td>\n",
       "      <td>-73.899353</td>\n",
       "      <td>40.763986</td>\n",
       "      <td>248</td>\n",
       "      <td>-73.872289</td>\n",
       "      <td>40.834165</td>\n",
       "      <td>1139</td>\n",
       "    </tr>\n",
       "    <tr>\n",
       "      <th>4</th>\n",
       "      <td>195</td>\n",
       "      <td>-74.009178</td>\n",
       "      <td>40.675549</td>\n",
       "      <td>68</td>\n",
       "      <td>-73.999917</td>\n",
       "      <td>40.748428</td>\n",
       "      <td>1040</td>\n",
       "    </tr>\n",
       "    <tr>\n",
       "      <th>5</th>\n",
       "      <td>251</td>\n",
       "      <td>-74.125348</td>\n",
       "      <td>40.616880</td>\n",
       "      <td>114</td>\n",
       "      <td>-73.997380</td>\n",
       "      <td>40.728340</td>\n",
       "      <td>1824</td>\n",
       "    </tr>\n",
       "    <tr>\n",
       "      <th>6</th>\n",
       "      <td>71</td>\n",
       "      <td>-73.937966</td>\n",
       "      <td>40.644288</td>\n",
       "      <td>118</td>\n",
       "      <td>-74.132979</td>\n",
       "      <td>40.586555</td>\n",
       "      <td>1940</td>\n",
       "    </tr>\n",
       "    <tr>\n",
       "      <th>7</th>\n",
       "      <td>139</td>\n",
       "      <td>-73.744234</td>\n",
       "      <td>40.677098</td>\n",
       "      <td>202</td>\n",
       "      <td>-73.949952</td>\n",
       "      <td>40.761900</td>\n",
       "      <td>2066</td>\n",
       "    </tr>\n",
       "    <tr>\n",
       "      <th>8</th>\n",
       "      <td>76</td>\n",
       "      <td>-73.876821</td>\n",
       "      <td>40.660935</td>\n",
       "      <td>240</td>\n",
       "      <td>-73.881978</td>\n",
       "      <td>40.894599</td>\n",
       "      <td>2350</td>\n",
       "    </tr>\n",
       "    <tr>\n",
       "      <th>9</th>\n",
       "      <td>165</td>\n",
       "      <td>-73.956825</td>\n",
       "      <td>40.620924</td>\n",
       "      <td>258</td>\n",
       "      <td>-73.855767</td>\n",
       "      <td>40.688721</td>\n",
       "      <td>1724</td>\n",
       "    </tr>\n",
       "  </tbody>\n",
       "</table>\n",
       "</div>"
      ],
      "text/plain": [
       "   LocationID  lon_pickup  lat_pickup  LocationID2  lon_dropoff  lat_dropoff  \\\n",
       "0         110  -74.128342   40.545780          254   -73.858948    40.882157   \n",
       "1          51  -73.828264   40.873973           92   -73.828859    40.761102   \n",
       "2         166  -73.961764   40.809457          234   -73.990458    40.740337   \n",
       "3         207  -73.899353   40.763986          248   -73.872289    40.834165   \n",
       "4         195  -74.009178   40.675549           68   -73.999917    40.748428   \n",
       "5         251  -74.125348   40.616880          114   -73.997380    40.728340   \n",
       "6          71  -73.937966   40.644288          118   -74.132979    40.586555   \n",
       "7         139  -73.744234   40.677098          202   -73.949952    40.761900   \n",
       "8          76  -73.876821   40.660935          240   -73.881978    40.894599   \n",
       "9         165  -73.956825   40.620924          258   -73.855767    40.688721   \n",
       "\n",
       "   driving_time  \n",
       "0          3877  \n",
       "1          1252  \n",
       "2          1102  \n",
       "3          1139  \n",
       "4          1040  \n",
       "5          1824  \n",
       "6          1940  \n",
       "7          2066  \n",
       "8          2350  \n",
       "9          1724  "
      ]
     },
     "execution_count": 19,
     "metadata": {},
     "output_type": "execute_result"
    }
   ],
   "source": [
    "sample['driving_time'] = driving(sample, apiKey)\n",
    "sample"
   ]
  },
  {
   "cell_type": "markdown",
   "metadata": {},
   "source": [
    "### NYC Open data API: \n",
    "NYC open data offers API for almost every available data from crime, housing, 311, taxi etc.\n",
    "Also its free for the most part and no account needed\n",
    "\n",
    "https://opendata.cityofnewyork.us/"
   ]
  },
  {
   "cell_type": "markdown",
   "metadata": {},
   "source": [
    "#### Example: Endpoint for 2018 taxi data\n",
    "https://data.cityofnewyork.us/resource/t29m-gskq.json"
   ]
  },
  {
   "cell_type": "code",
   "execution_count": 20,
   "metadata": {},
   "outputs": [],
   "source": [
    "# some parameters to filter the data. We can specify as many parameters as columns in the table.\n",
    "# reference: https://dev.socrata.com/foundry/data.cityofnewyork.us/t29m-gskq\n",
    "\n",
    "# extracting info for a specific O-D pair corresponding to near E 35th st as pick up and Newark airport as drop off\n",
    "# this is around the same pick-up and drop-off location we used to get driving time from HereMap API\n",
    "parameter = {'pulocationid':162, 'dolocationid':1}\n",
    "\n"
   ]
  },
  {
   "cell_type": "markdown",
   "metadata": {},
   "source": [
    "making API request\n",
    "\n",
    "'requests' is another package of making web requests. Highly uselful in the case of REST APIs and we can provide parameters together in one line of code. We'll use the 'get' method to retrieve data"
   ]
  },
  {
   "cell_type": "code",
   "execution_count": 21,
   "metadata": {},
   "outputs": [],
   "source": [
    "url =  \"https://data.cityofnewyork.us/resource/t29m-gskq.json\"\n",
    "r = requests.get(url = url, params=parameter)\n",
    "data = r.json()"
   ]
  },
  {
   "cell_type": "markdown",
   "metadata": {},
   "source": [
    "fisrt three returned observations"
   ]
  },
  {
   "cell_type": "code",
   "execution_count": 22,
   "metadata": {
    "scrolled": true
   },
   "outputs": [
    {
     "data": {
      "text/plain": [
       "[{'vendorid': '1',\n",
       "  'tpep_pickup_datetime': '2018-02-14T13:10:19.000',\n",
       "  'tpep_dropoff_datetime': '2018-02-14T13:53:15.000',\n",
       "  'passenger_count': '1',\n",
       "  'trip_distance': '17.40',\n",
       "  'ratecodeid': '3',\n",
       "  'store_and_fwd_flag': 'N',\n",
       "  'pulocationid': '162',\n",
       "  'dolocationid': '1',\n",
       "  'payment_type': '1',\n",
       "  'fare_amount': '68.5',\n",
       "  'extra': '0',\n",
       "  'mta_tax': '0',\n",
       "  'tip_amount': '12',\n",
       "  'tolls_amount': '10.5',\n",
       "  'improvement_surcharge': '0.3',\n",
       "  'total_amount': '91.3'},\n",
       " {'vendorid': '2',\n",
       "  'tpep_pickup_datetime': '2018-02-14T14:25:43.000',\n",
       "  'tpep_dropoff_datetime': '2018-02-14T15:05:18.000',\n",
       "  'passenger_count': '2',\n",
       "  'trip_distance': '17.40',\n",
       "  'ratecodeid': '3',\n",
       "  'store_and_fwd_flag': 'N',\n",
       "  'pulocationid': '162',\n",
       "  'dolocationid': '1',\n",
       "  'payment_type': '1',\n",
       "  'fare_amount': '68',\n",
       "  'extra': '0',\n",
       "  'mta_tax': '0',\n",
       "  'tip_amount': '0',\n",
       "  'tolls_amount': '16.1',\n",
       "  'improvement_surcharge': '0.3',\n",
       "  'total_amount': '84.4'},\n",
       " {'vendorid': '1',\n",
       "  'tpep_pickup_datetime': '2018-02-14T14:38:48.000',\n",
       "  'tpep_dropoff_datetime': '2018-02-14T15:36:03.000',\n",
       "  'passenger_count': '1',\n",
       "  'trip_distance': '21.70',\n",
       "  'ratecodeid': '3',\n",
       "  'store_and_fwd_flag': 'N',\n",
       "  'pulocationid': '162',\n",
       "  'dolocationid': '1',\n",
       "  'payment_type': '2',\n",
       "  'fare_amount': '81',\n",
       "  'extra': '0',\n",
       "  'mta_tax': '0',\n",
       "  'tip_amount': '0',\n",
       "  'tolls_amount': '15.49',\n",
       "  'improvement_surcharge': '0.3',\n",
       "  'total_amount': '96.79'}]"
      ]
     },
     "execution_count": 22,
     "metadata": {},
     "output_type": "execute_result"
    }
   ],
   "source": [
    "data[:3]"
   ]
  },
  {
   "cell_type": "markdown",
   "metadata": {},
   "source": [
    "Note that the returned request contains information reagrding pick up and drop off times, distance covered, fare amount, number of passengers etc. Essentially, it returns all info provided by TLC in any csv file."
   ]
  },
  {
   "cell_type": "markdown",
   "metadata": {},
   "source": [
    "Let's get travel time from first observation"
   ]
  },
  {
   "cell_type": "code",
   "execution_count": 23,
   "metadata": {},
   "outputs": [
    {
     "data": {
      "text/plain": [
       "datetime.timedelta(seconds=2576)"
      ]
     },
     "execution_count": 23,
     "metadata": {},
     "output_type": "execute_result"
    }
   ],
   "source": [
    "# travel time in seconds\n",
    "parser.parse(data[0]['tpep_dropoff_datetime']) - parser.parse(data[0]['tpep_pickup_datetime'])"
   ]
  },
  {
   "cell_type": "markdown",
   "metadata": {},
   "source": [
    "Note the travel time returned is around 40 minutes compared to around 28 minutes from driving time retrieved from HereMap API before. Also note time can vary based on the pick up times, the above time of 40 min correspond to pick up around 7pm."
   ]
  },
  {
   "cell_type": "markdown",
   "metadata": {},
   "source": [
    "\n",
    "\n",
    "#### get yellow taxi times for O-D pairs as before\n",
    "\n",
    "#### Note: taxi data can be full of absurd values in terms of travel times/fares/distances. So we need to filter out all noise while we extract. \n",
    "#### We'll make the same checks for filtering as we did in the taxi data lab\n",
    "\n",
    "1. Get rid of observations with travel time > 1 min and < 100 min\n",
    "2. Speed (distance/time) should be > 2mph and <80mph\n",
    "3. Fare should be < 300 USD and > 2.5 USD\n",
    "4. distance traveled < 100 and > 0.3"
   ]
  },
  {
   "cell_type": "code",
   "execution_count": 24,
   "metadata": {},
   "outputs": [],
   "source": [
    "def taxiTime(df):\n",
    "    \n",
    "    times = [] # list for storing travel times\n",
    "    \n",
    "    for index, row in df.iterrows(): # iterating through all rows of sample points\n",
    "        \n",
    "        # specify parameters for making request\n",
    "        parameters = {'pulocationid':int(row['LocationID']), 'dolocationid':int(row['LocationID2'])}\n",
    "        \n",
    "        url =  \"https://data.cityofnewyork.us/resource/t29m-gskq.json\"\n",
    "        r = requests.get(url = url, params=parameters)\n",
    "        data = r.json()\n",
    "        \n",
    "        travelTime = []\n",
    "        \n",
    "        for obs in data: # iterating through each returned observation for the returned data \n",
    "            \n",
    "            # making sanity checks and appending times to 'traveTime' list\n",
    "            try:\n",
    "                time = parser.parse(obs['tpep_dropoff_datetime']) - parser.parse(obs['tpep_pickup_datetime'])\n",
    "                time = time.total_seconds()\n",
    "                fare = float(obs['fare_amount'])\n",
    "                distance = float(obs['trip_distance'])\n",
    "                speed = distance/(time/3600)\n",
    "\n",
    "                if (time < 6000 and time > 60 and fare < 200  \n",
    "                    and fare > 2.5 and fare < 300 and speed < 80  and speed > 2 and distance > 0.3 and \n",
    "                    distance < 100):\n",
    "                    travelTime.append(time)\n",
    "                    \n",
    "            except: \n",
    "                pass\n",
    "            \n",
    "        # now appending the mean of travel times retrieved above to the 'times' list\n",
    "    \n",
    "        times.append(np.mean(travelTime))\n",
    "        \n",
    "        \n",
    "    return times"
   ]
  },
  {
   "cell_type": "code",
   "execution_count": 25,
   "metadata": {},
   "outputs": [
    {
     "name": "stderr",
     "output_type": "stream",
     "text": [
      "C:\\Applications\\Anaconda\\lib\\site-packages\\numpy\\core\\fromnumeric.py:3432: RuntimeWarning: Mean of empty slice.\n",
      "  return _methods._mean(a, axis=axis, dtype=dtype,\n",
      "C:\\Applications\\Anaconda\\lib\\site-packages\\numpy\\core\\_methods.py:190: RuntimeWarning: invalid value encountered in double_scalars\n",
      "  ret = ret.dtype.type(ret / rcount)\n"
     ]
    },
    {
     "data": {
      "text/html": [
       "<div>\n",
       "<style scoped>\n",
       "    .dataframe tbody tr th:only-of-type {\n",
       "        vertical-align: middle;\n",
       "    }\n",
       "\n",
       "    .dataframe tbody tr th {\n",
       "        vertical-align: top;\n",
       "    }\n",
       "\n",
       "    .dataframe thead th {\n",
       "        text-align: right;\n",
       "    }\n",
       "</style>\n",
       "<table border=\"1\" class=\"dataframe\">\n",
       "  <thead>\n",
       "    <tr style=\"text-align: right;\">\n",
       "      <th></th>\n",
       "      <th>LocationID</th>\n",
       "      <th>lon_pickup</th>\n",
       "      <th>lat_pickup</th>\n",
       "      <th>LocationID2</th>\n",
       "      <th>lon_dropoff</th>\n",
       "      <th>lat_dropoff</th>\n",
       "      <th>driving_time</th>\n",
       "      <th>TLC_avgtime</th>\n",
       "    </tr>\n",
       "  </thead>\n",
       "  <tbody>\n",
       "    <tr>\n",
       "      <th>0</th>\n",
       "      <td>110</td>\n",
       "      <td>-74.128342</td>\n",
       "      <td>40.545780</td>\n",
       "      <td>254</td>\n",
       "      <td>-73.858948</td>\n",
       "      <td>40.882157</td>\n",
       "      <td>3877</td>\n",
       "      <td>NaN</td>\n",
       "    </tr>\n",
       "    <tr>\n",
       "      <th>1</th>\n",
       "      <td>51</td>\n",
       "      <td>-73.828264</td>\n",
       "      <td>40.873973</td>\n",
       "      <td>92</td>\n",
       "      <td>-73.828859</td>\n",
       "      <td>40.761102</td>\n",
       "      <td>1252</td>\n",
       "      <td>1398.000000</td>\n",
       "    </tr>\n",
       "    <tr>\n",
       "      <th>2</th>\n",
       "      <td>166</td>\n",
       "      <td>-73.961764</td>\n",
       "      <td>40.809457</td>\n",
       "      <td>234</td>\n",
       "      <td>-73.990458</td>\n",
       "      <td>40.740337</td>\n",
       "      <td>1102</td>\n",
       "      <td>1834.531062</td>\n",
       "    </tr>\n",
       "    <tr>\n",
       "      <th>3</th>\n",
       "      <td>207</td>\n",
       "      <td>-73.899353</td>\n",
       "      <td>40.763986</td>\n",
       "      <td>248</td>\n",
       "      <td>-73.872289</td>\n",
       "      <td>40.834165</td>\n",
       "      <td>1139</td>\n",
       "      <td>NaN</td>\n",
       "    </tr>\n",
       "    <tr>\n",
       "      <th>4</th>\n",
       "      <td>195</td>\n",
       "      <td>-74.009178</td>\n",
       "      <td>40.675549</td>\n",
       "      <td>68</td>\n",
       "      <td>-73.999917</td>\n",
       "      <td>40.748428</td>\n",
       "      <td>1040</td>\n",
       "      <td>2149.000000</td>\n",
       "    </tr>\n",
       "    <tr>\n",
       "      <th>5</th>\n",
       "      <td>251</td>\n",
       "      <td>-74.125348</td>\n",
       "      <td>40.616880</td>\n",
       "      <td>114</td>\n",
       "      <td>-73.997380</td>\n",
       "      <td>40.728340</td>\n",
       "      <td>1824</td>\n",
       "      <td>NaN</td>\n",
       "    </tr>\n",
       "    <tr>\n",
       "      <th>6</th>\n",
       "      <td>71</td>\n",
       "      <td>-73.937966</td>\n",
       "      <td>40.644288</td>\n",
       "      <td>118</td>\n",
       "      <td>-74.132979</td>\n",
       "      <td>40.586555</td>\n",
       "      <td>1940</td>\n",
       "      <td>3126.000000</td>\n",
       "    </tr>\n",
       "    <tr>\n",
       "      <th>7</th>\n",
       "      <td>139</td>\n",
       "      <td>-73.744234</td>\n",
       "      <td>40.677098</td>\n",
       "      <td>202</td>\n",
       "      <td>-73.949952</td>\n",
       "      <td>40.761900</td>\n",
       "      <td>2066</td>\n",
       "      <td>NaN</td>\n",
       "    </tr>\n",
       "    <tr>\n",
       "      <th>8</th>\n",
       "      <td>76</td>\n",
       "      <td>-73.876821</td>\n",
       "      <td>40.660935</td>\n",
       "      <td>240</td>\n",
       "      <td>-73.881978</td>\n",
       "      <td>40.894599</td>\n",
       "      <td>2350</td>\n",
       "      <td>3203.666667</td>\n",
       "    </tr>\n",
       "    <tr>\n",
       "      <th>9</th>\n",
       "      <td>165</td>\n",
       "      <td>-73.956825</td>\n",
       "      <td>40.620924</td>\n",
       "      <td>258</td>\n",
       "      <td>-73.855767</td>\n",
       "      <td>40.688721</td>\n",
       "      <td>1724</td>\n",
       "      <td>2622.000000</td>\n",
       "    </tr>\n",
       "  </tbody>\n",
       "</table>\n",
       "</div>"
      ],
      "text/plain": [
       "   LocationID  lon_pickup  lat_pickup  LocationID2  lon_dropoff  lat_dropoff  \\\n",
       "0         110  -74.128342   40.545780          254   -73.858948    40.882157   \n",
       "1          51  -73.828264   40.873973           92   -73.828859    40.761102   \n",
       "2         166  -73.961764   40.809457          234   -73.990458    40.740337   \n",
       "3         207  -73.899353   40.763986          248   -73.872289    40.834165   \n",
       "4         195  -74.009178   40.675549           68   -73.999917    40.748428   \n",
       "5         251  -74.125348   40.616880          114   -73.997380    40.728340   \n",
       "6          71  -73.937966   40.644288          118   -74.132979    40.586555   \n",
       "7         139  -73.744234   40.677098          202   -73.949952    40.761900   \n",
       "8          76  -73.876821   40.660935          240   -73.881978    40.894599   \n",
       "9         165  -73.956825   40.620924          258   -73.855767    40.688721   \n",
       "\n",
       "   driving_time  TLC_avgtime  \n",
       "0          3877          NaN  \n",
       "1          1252  1398.000000  \n",
       "2          1102  1834.531062  \n",
       "3          1139          NaN  \n",
       "4          1040  2149.000000  \n",
       "5          1824          NaN  \n",
       "6          1940  3126.000000  \n",
       "7          2066          NaN  \n",
       "8          2350  3203.666667  \n",
       "9          1724  2622.000000  "
      ]
     },
     "execution_count": 25,
     "metadata": {},
     "output_type": "execute_result"
    }
   ],
   "source": [
    "sample['TLC_avgtime'] = taxiTime(sample)\n",
    "sample"
   ]
  },
  {
   "cell_type": "code",
   "execution_count": 38,
   "metadata": {},
   "outputs": [],
   "source": [
    "## get latitude and longitude from returned json request\n",
    "\n"
   ]
  },
  {
   "cell_type": "code",
   "execution_count": null,
   "metadata": {},
   "outputs": [],
   "source": []
  }
 ],
 "metadata": {
  "kernelspec": {
   "display_name": "Python 3 (ipykernel)",
   "language": "python",
   "name": "python3"
  },
  "language_info": {
   "codemirror_mode": {
    "name": "ipython",
    "version": 3
   },
   "file_extension": ".py",
   "mimetype": "text/x-python",
   "name": "python",
   "nbconvert_exporter": "python",
   "pygments_lexer": "ipython3",
   "version": "3.9.19"
  },
  "toc": {
   "base_numbering": 1,
   "nav_menu": {},
   "number_sections": true,
   "sideBar": true,
   "skip_h1_title": false,
   "title_cell": "Table of Contents",
   "title_sidebar": "Contents",
   "toc_cell": false,
   "toc_position": {},
   "toc_section_display": true,
   "toc_window_display": false
  }
 },
 "nbformat": 4,
 "nbformat_minor": 4
}
