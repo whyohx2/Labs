{
 "cells": [
  {
   "cell_type": "markdown",
   "metadata": {},
   "source": [
    "# Feature selection\n",
    "\n",
    "In case statistical significance of the impact of the regressors is in question, or  multicollinearity or overfitting is observed, reducing complexity of the model (number of features or their dimensionality) is usually recommended. The most straightforward way of doing so is through feature selection. \n",
    "\n",
    "This can be done by selecting a subset of the regressors of the given size $k$ maximizing the model fit ($R^2$) over the validation sample. Two common ways of doing that are\n",
    "- Step-backward: keep removing regressors (one by one) having the highest negative or lowest positive impact on the validation $R^2$, until a target number of features is reached or until validation $R^2$ can not be improved anymore;\n",
    "- Step-forward: keep adding regressors (one by one) having the maximal positive impact or minimal negative impact on the validation $R^2$, until a target number of features is reached or until validation $R^2$ can not be improved anymore.\n",
    "\n",
    "Those are not the only two ways - one can also consider more sophisticated heuristics for the selection of the best combination of the regressors. \n",
    "\n",
    "Drawback - by removing regressors we're discarding information from the feature space, while it could happen that both - noise as well as important information - are spread among all the regressors."
   ]
  },
  {
   "cell_type": "markdown",
   "metadata": {},
   "source": [
    "### An artificial example to demonstrate feature selection based on maximizing validation $R^2$, adjusted R2 and selecting features by p-values"
   ]
  },
  {
   "cell_type": "markdown",
   "metadata": {},
   "source": [
    "The regular $R^2$:\n",
    "$$\n",
    "R^2=1-\\frac{RSS}{\\sum_i (y_i-\\bar{y})^2}=\\frac{\\sum_i (\\hat{y}_i-\\bar{y})^2}{\\sum_i (y_i-\\bar{y})^2},\n",
    "$$\n",
    "The adjusted $R^2$ (adjusts the model performance metric by the model complexity (number of features used)):\n",
    "$$\n",
    "adj.R^2=1-\\frac{RSS}{\\sum_i (y_i-\\bar{y})^2} \\cdot \\frac{N-1}{N-P-1} \n",
    "$$\n",
    "where $N$ is the total sample size and $P$ is the number of features/selected variables"
   ]
  },
  {
   "cell_type": "code",
   "execution_count": 1,
   "metadata": {},
   "outputs": [
    {
     "name": "stdout",
     "output_type": "stream",
     "text": [
      "%pylab is deprecated, use %matplotlib inline and import the required libraries.\n",
      "Populating the interactive namespace from numpy and matplotlib\n"
     ]
    }
   ],
   "source": [
    "import numpy as np\n",
    "import pandas as pd\n",
    "import matplotlib.pyplot as plt\n",
    "%pylab inline\n",
    "import statsmodels.formula.api as smf\n",
    "from scipy.stats import t\n",
    "from sklearn.metrics import r2_score\n",
    "matplotlib.rcParams['figure.figsize'] = [10,4]"
   ]
  },
  {
   "cell_type": "code",
   "execution_count": 2,
   "metadata": {},
   "outputs": [],
   "source": [
    "#generate the data\n",
    "n = 15\n",
    "np.random.seed(2)\n",
    "\n",
    "col = []\n",
    "for i in range(n):\n",
    "    col.append('x%d'%(i+1))\n",
    "\n",
    "X = pd.DataFrame(np.random.randn(50*n).reshape(50,n))\n",
    "Y = X.iloc[:,[3,5,7]].sum(axis = 1) + 0.7*np.random.randn(50) #Y = x4+x6+x8+N(0,0.7)\n",
    "data3 = pd.concat((Y,X), axis = 1)  # concatenate Y and X\n",
    "data3.columns = ['Y'] + col         # rename the columns\n",
    "train = data3[:20]\n",
    "valid = data3[20:]"
   ]
  },
  {
   "cell_type": "code",
   "execution_count": 3,
   "metadata": {},
   "outputs": [
    {
     "data": {
      "text/html": [
       "<div>\n",
       "<style scoped>\n",
       "    .dataframe tbody tr th:only-of-type {\n",
       "        vertical-align: middle;\n",
       "    }\n",
       "\n",
       "    .dataframe tbody tr th {\n",
       "        vertical-align: top;\n",
       "    }\n",
       "\n",
       "    .dataframe thead th {\n",
       "        text-align: right;\n",
       "    }\n",
       "</style>\n",
       "<table border=\"1\" class=\"dataframe\">\n",
       "  <thead>\n",
       "    <tr style=\"text-align: right;\">\n",
       "      <th></th>\n",
       "      <th>Y</th>\n",
       "      <th>x1</th>\n",
       "      <th>x2</th>\n",
       "      <th>x3</th>\n",
       "      <th>x4</th>\n",
       "      <th>x5</th>\n",
       "      <th>x6</th>\n",
       "      <th>x7</th>\n",
       "      <th>x8</th>\n",
       "      <th>x9</th>\n",
       "      <th>x10</th>\n",
       "      <th>x11</th>\n",
       "      <th>x12</th>\n",
       "      <th>x13</th>\n",
       "      <th>x14</th>\n",
       "      <th>x15</th>\n",
       "    </tr>\n",
       "  </thead>\n",
       "  <tbody>\n",
       "    <tr>\n",
       "      <th>0</th>\n",
       "      <td>-0.439741</td>\n",
       "      <td>-0.416758</td>\n",
       "      <td>-0.056267</td>\n",
       "      <td>-2.136196</td>\n",
       "      <td>1.640271</td>\n",
       "      <td>-1.793436</td>\n",
       "      <td>-0.841747</td>\n",
       "      <td>0.502881</td>\n",
       "      <td>-1.245288</td>\n",
       "      <td>-1.057952</td>\n",
       "      <td>-0.909008</td>\n",
       "      <td>0.551454</td>\n",
       "      <td>2.292208</td>\n",
       "      <td>0.041539</td>\n",
       "      <td>-1.117925</td>\n",
       "      <td>0.539058</td>\n",
       "    </tr>\n",
       "    <tr>\n",
       "      <th>1</th>\n",
       "      <td>-1.034245</td>\n",
       "      <td>-0.596160</td>\n",
       "      <td>-0.019130</td>\n",
       "      <td>1.175001</td>\n",
       "      <td>-0.747871</td>\n",
       "      <td>0.009025</td>\n",
       "      <td>-0.878108</td>\n",
       "      <td>-0.156434</td>\n",
       "      <td>0.256570</td>\n",
       "      <td>-0.988779</td>\n",
       "      <td>-0.338822</td>\n",
       "      <td>-0.236184</td>\n",
       "      <td>-0.637655</td>\n",
       "      <td>-1.187612</td>\n",
       "      <td>-1.421217</td>\n",
       "      <td>-0.153495</td>\n",
       "    </tr>\n",
       "    <tr>\n",
       "      <th>2</th>\n",
       "      <td>0.571933</td>\n",
       "      <td>-0.269057</td>\n",
       "      <td>2.231367</td>\n",
       "      <td>-2.434768</td>\n",
       "      <td>0.112727</td>\n",
       "      <td>0.370445</td>\n",
       "      <td>1.359634</td>\n",
       "      <td>0.501857</td>\n",
       "      <td>-0.844214</td>\n",
       "      <td>0.000010</td>\n",
       "      <td>0.542353</td>\n",
       "      <td>-0.313508</td>\n",
       "      <td>0.771012</td>\n",
       "      <td>-1.868091</td>\n",
       "      <td>1.731185</td>\n",
       "      <td>1.467678</td>\n",
       "    </tr>\n",
       "    <tr>\n",
       "      <th>3</th>\n",
       "      <td>-1.108995</td>\n",
       "      <td>-0.335677</td>\n",
       "      <td>0.611341</td>\n",
       "      <td>0.047971</td>\n",
       "      <td>-0.829135</td>\n",
       "      <td>0.087710</td>\n",
       "      <td>1.000366</td>\n",
       "      <td>-0.381093</td>\n",
       "      <td>-0.375669</td>\n",
       "      <td>-0.074471</td>\n",
       "      <td>0.433496</td>\n",
       "      <td>1.278379</td>\n",
       "      <td>-0.634679</td>\n",
       "      <td>0.508396</td>\n",
       "      <td>0.216116</td>\n",
       "      <td>-1.858612</td>\n",
       "    </tr>\n",
       "    <tr>\n",
       "      <th>4</th>\n",
       "      <td>-2.000563</td>\n",
       "      <td>-0.419316</td>\n",
       "      <td>-0.132329</td>\n",
       "      <td>-0.039570</td>\n",
       "      <td>0.326003</td>\n",
       "      <td>-2.040323</td>\n",
       "      <td>0.046256</td>\n",
       "      <td>-0.677676</td>\n",
       "      <td>-1.439439</td>\n",
       "      <td>0.524296</td>\n",
       "      <td>0.735280</td>\n",
       "      <td>-0.653250</td>\n",
       "      <td>0.842456</td>\n",
       "      <td>-0.381516</td>\n",
       "      <td>0.066489</td>\n",
       "      <td>-1.098739</td>\n",
       "    </tr>\n",
       "  </tbody>\n",
       "</table>\n",
       "</div>"
      ],
      "text/plain": [
       "          Y        x1        x2        x3        x4        x5        x6  \\\n",
       "0 -0.439741 -0.416758 -0.056267 -2.136196  1.640271 -1.793436 -0.841747   \n",
       "1 -1.034245 -0.596160 -0.019130  1.175001 -0.747871  0.009025 -0.878108   \n",
       "2  0.571933 -0.269057  2.231367 -2.434768  0.112727  0.370445  1.359634   \n",
       "3 -1.108995 -0.335677  0.611341  0.047971 -0.829135  0.087710  1.000366   \n",
       "4 -2.000563 -0.419316 -0.132329 -0.039570  0.326003 -2.040323  0.046256   \n",
       "\n",
       "         x7        x8        x9       x10       x11       x12       x13  \\\n",
       "0  0.502881 -1.245288 -1.057952 -0.909008  0.551454  2.292208  0.041539   \n",
       "1 -0.156434  0.256570 -0.988779 -0.338822 -0.236184 -0.637655 -1.187612   \n",
       "2  0.501857 -0.844214  0.000010  0.542353 -0.313508  0.771012 -1.868091   \n",
       "3 -0.381093 -0.375669 -0.074471  0.433496  1.278379 -0.634679  0.508396   \n",
       "4 -0.677676 -1.439439  0.524296  0.735280 -0.653250  0.842456 -0.381516   \n",
       "\n",
       "        x14       x15  \n",
       "0 -1.117925  0.539058  \n",
       "1 -1.421217 -0.153495  \n",
       "2  1.731185  1.467678  \n",
       "3  0.216116 -1.858612  \n",
       "4  0.066489 -1.098739  "
      ]
     },
     "execution_count": 3,
     "metadata": {},
     "output_type": "execute_result"
    }
   ],
   "source": [
    "train.head()"
   ]
  },
  {
   "cell_type": "code",
   "execution_count": 4,
   "metadata": {},
   "outputs": [
    {
     "name": "stdout",
     "output_type": "stream",
     "text": [
      "                            OLS Regression Results                            \n",
      "==============================================================================\n",
      "Dep. Variable:                      Y   R-squared:                       0.986\n",
      "Model:                            OLS   Adj. R-squared:                  0.933\n",
      "Method:                 Least Squares   F-statistic:                     18.70\n",
      "Date:                Wed, 20 Nov 2024   Prob (F-statistic):            0.00593\n",
      "Time:                        23:35:10   Log-Likelihood:               -0.56537\n",
      "No. Observations:                  20   AIC:                             33.13\n",
      "Df Residuals:                       4   BIC:                             49.06\n",
      "Df Model:                          15                                         \n",
      "Covariance Type:            nonrobust                                         \n",
      "==============================================================================\n",
      "                 coef    std err          t      P>|t|      [0.025      0.975]\n",
      "------------------------------------------------------------------------------\n",
      "Intercept      0.2613      0.204      1.282      0.269      -0.304       0.827\n",
      "x1            -0.1612      0.150     -1.076      0.343      -0.577       0.255\n",
      "x2            -0.0990      0.222     -0.447      0.678      -0.714       0.516\n",
      "x3            -0.0692      0.222     -0.312      0.771      -0.684       0.546\n",
      "x4             0.7931      0.176      4.503      0.011       0.304       1.282\n",
      "x5             0.2114      0.213      0.991      0.378      -0.381       0.804\n",
      "x6             0.1867      0.336      0.556      0.608      -0.746       1.119\n",
      "x7            -1.0261      0.384     -2.673      0.056      -2.092       0.040\n",
      "x8             0.6683      0.385      1.735      0.158      -0.401       1.738\n",
      "x9             0.1599      0.211      0.758      0.491      -0.426       0.746\n",
      "x10           -0.7974      0.247     -3.225      0.032      -1.484      -0.111\n",
      "x11            0.3147      0.199      1.581      0.189      -0.238       0.867\n",
      "x12           -0.3169      0.254     -1.249      0.280      -1.021       0.387\n",
      "x13            0.1848      0.205      0.903      0.418      -0.384       0.753\n",
      "x14            0.5745      0.208      2.758      0.051      -0.004       1.153\n",
      "x15            0.6334      0.255      2.487      0.068      -0.074       1.341\n",
      "==============================================================================\n",
      "Omnibus:                        0.370   Durbin-Watson:                   2.436\n",
      "Prob(Omnibus):                  0.831   Jarque-Bera (JB):                0.341\n",
      "Skew:                           0.266   Prob(JB):                        0.843\n",
      "Kurtosis:                       2.645   Cond. No.                         10.2\n",
      "==============================================================================\n",
      "\n",
      "Notes:\n",
      "[1] Standard Errors assume that the covariance matrix of the errors is correctly specified.\n"
     ]
    }
   ],
   "source": [
    "#first fit the regression over the training data and report the results\n",
    "lm = smf.ols(formula = 'Y ~ '+ '+'.join(train.columns[1:]), data = train).fit()\n",
    "OLS_coef=lm.params\n",
    "print(lm.summary())"
   ]
  },
  {
   "cell_type": "code",
   "execution_count": 5,
   "metadata": {},
   "outputs": [
    {
     "data": {
      "text/plain": [
       "-0.2220601531430677"
      ]
     },
     "execution_count": 5,
     "metadata": {},
     "output_type": "execute_result"
    }
   ],
   "source": [
    "#however the out-of-sample validation R2 does not look good; overfitting detected\n",
    "r2_score(valid.Y,lm.predict(valid))"
   ]
  },
  {
   "cell_type": "code",
   "execution_count": 6,
   "metadata": {},
   "outputs": [],
   "source": [
    "# The auxiliary function implementing regression based on the selected subset of features\n",
    "def AdjR2(flag):\n",
    "    '''\n",
    "    Evaluate the model with adjusted R-squared,\n",
    "    with flag indicating the feature selection\n",
    "    1--feature included\n",
    "    0--feature excluded\n",
    "    '''\n",
    "    formstr='Y~-1'\n",
    "    for i in range(len(flag)):\n",
    "        if flag[i]==1:\n",
    "            formstr += '+x%d'%(i+1) # Construct the regression formula based on flag\n",
    "    lm = smf.ols(formula = formstr, data = train).fit()\n",
    "    lmy = lm.predict(valid)\n",
    "    y_err = lmy-valid.Y\n",
    "    y_norm = valid.Y-mean(valid.Y)\n",
    "    # Adjusted R^2\n",
    "    R2_OS = 1 - y_err.dot(y_err) / y_norm.dot(y_norm)\n",
    "    adjR2_OS = 1 - y_err.dot(y_err) / y_norm.dot(y_norm) * (n-1) / (n-sum(flag)-1)\n",
    "    return lm, R2_OS, adjR2_OS"
   ]
  },
  {
   "cell_type": "markdown",
   "metadata": {},
   "source": [
    "### Illustrating the overfitting:"
   ]
  },
  {
   "cell_type": "code",
   "execution_count": 7,
   "metadata": {},
   "outputs": [
    {
     "name": "stderr",
     "output_type": "stream",
     "text": [
      "/var/folders/q3/mpqtmy991gj7fyndmxjgbnth0000gp/T/ipykernel_11447/2394151511.py:19: RuntimeWarning: divide by zero encountered in scalar divide\n",
      "  adjR2_OS = 1 - y_err.dot(y_err) / y_norm.dot(y_norm) * (n-1) / (n-sum(flag)-1)\n"
     ]
    }
   ],
   "source": [
    "#implement the regression with out-of-sample evaluation for different numbers of features included \n",
    "adjR2 = []\n",
    "regR2 = []\n",
    "OSR2 = []\n",
    "for i in range(1, n):\n",
    "    lm, R2_OS, adjR2_OS = AdjR2([1]*i + [0]*(n-i))\n",
    "    regR2.append(lm.rsquared)\n",
    "    adjR2.append(lm.rsquared_adj)\n",
    "    OSR2.append(adjR2_OS)"
   ]
  },
  {
   "cell_type": "code",
   "execution_count": 8,
   "metadata": {},
   "outputs": [
    {
     "data": {
      "text/plain": [
       "<matplotlib.legend.Legend at 0x7f7921be7370>"
      ]
     },
     "execution_count": 8,
     "metadata": {},
     "output_type": "execute_result"
    },
    {
     "data": {
      "image/png": "[encoded data removed]",
      "text/plain": [
       "<Figure size 1000x400 with 1 Axes>"
      ]
     },
     "metadata": {},
     "output_type": "display_data"
    }
   ],
   "source": [
    "# In sample R2\n",
    "plt.plot(range(1, n), regR2, 'g-*', markersize = 10)\n",
    "plt.plot(range(1, n), adjR2, 'b-*', markersize = 10)\n",
    "plt.plot(range(1, n), OSR2, 'r-*', markersize = 10)\n",
    "plt.ylim((-1,1))\n",
    "plt.legend(('in-sample R2','in-sample adj R2','out-of-sample adj R2'))"
   ]
  },
  {
   "cell_type": "markdown",
   "metadata": {},
   "source": [
    "### Next iteratively add features maximizing validation adjusted $R^2$"
   ]
  },
  {
   "cell_type": "code",
   "execution_count": 9,
   "metadata": {},
   "outputs": [
    {
     "name": "stdout",
     "output_type": "stream",
     "text": [
      "[ 1  2  4  6  8  9 12 15]\n"
     ]
    }
   ],
   "source": [
    "# Find the best feature selection (forward step-wise) that maximizes the out-of-sample adjusted R2\n",
    "def FindBestI():\n",
    "    flag = np.zeros(n)    # initially exclude all regressors: 1-include, 0-exclude\n",
    "    r2max = 0             # for storing and compare with best R^2\n",
    "    while True:\n",
    "        flag_mat = np.maximum(np.eye(n),flag) #create the matrix with rows representing the cases of adding each new feature\n",
    "        # see if R2 increases if we add one more feature\n",
    "        r2 = np.apply_along_axis(AdjR2,1,flag_mat)[:,1]  # 1: row-wise operation producing the validation R2 for each row (combination of features)\n",
    "        temp = r2.max() #take the best R2\n",
    "        if temp > r2max:\n",
    "            r2max = temp\n",
    "            flag = flag_mat[r2.argmax()]  # select the feature set that improved R2\n",
    "        else:\n",
    "            break                         # if there's nothing to add, break the loop\n",
    "    return flag\n",
    "\n",
    "flag = FindBestI()             # store the best choice of feature selection\n",
    "lm_best,_,r2_best = AdjR2(flag)  # then run the regression based on such selection\n",
    "ix = [col[i] for i in range(n) if flag[i]==1]\n",
    "\n",
    "print(np.where(flag)[0] + 1) #index of features to keep"
   ]
  },
  {
   "cell_type": "code",
   "execution_count": 10,
   "metadata": {},
   "outputs": [
    {
     "name": "stdout",
     "output_type": "stream",
     "text": [
      "Validation R^2 is 0.739678\n",
      "                                 OLS Regression Results                                \n",
      "=======================================================================================\n",
      "Dep. Variable:                      Y   R-squared (uncentered):                   0.906\n",
      "Model:                            OLS   Adj. R-squared (uncentered):              0.843\n",
      "Method:                 Least Squares   F-statistic:                              14.38\n",
      "Date:                Wed, 20 Nov 2024   Prob (F-statistic):                    4.64e-05\n",
      "Time:                        23:35:12   Log-Likelihood:                         -19.669\n",
      "No. Observations:                  20   AIC:                                      55.34\n",
      "Df Residuals:                      12   BIC:                                      63.30\n",
      "Df Model:                           8                                                  \n",
      "Covariance Type:            nonrobust                                                  \n",
      "==============================================================================\n",
      "                 coef    std err          t      P>|t|      [0.025      0.975]\n",
      "------------------------------------------------------------------------------\n",
      "x1            -0.0222      0.177     -0.126      0.902      -0.407       0.363\n",
      "x2             0.2607      0.245      1.064      0.308      -0.273       0.794\n",
      "x4             1.0879      0.168      6.463      0.000       0.721       1.455\n",
      "x6             0.8777      0.296      2.964      0.012       0.232       1.523\n",
      "x8             1.3183      0.309      4.263      0.001       0.645       1.992\n",
      "x9            -0.0793      0.213     -0.372      0.716      -0.543       0.385\n",
      "x12           -0.0024      0.218     -0.011      0.991      -0.476       0.472\n",
      "x15            0.0410      0.221      0.185      0.856      -0.441       0.523\n",
      "==============================================================================\n",
      "Omnibus:                        0.493   Durbin-Watson:                   1.948\n",
      "Prob(Omnibus):                  0.781   Jarque-Bera (JB):                0.187\n",
      "Skew:                           0.231   Prob(JB):                        0.911\n",
      "Kurtosis:                       2.895   Cond. No.                         3.75\n",
      "==============================================================================\n",
      "\n",
      "Notes:\n",
      "[1] R² is computed without centering (uncentered) since the model does not contain a constant.\n",
      "[2] Standard Errors assume that the covariance matrix of the errors is correctly specified.\n"
     ]
    }
   ],
   "source": [
    "print('Validation R^2 is %f'%r2_best)\n",
    "print(lm_best.summary())"
   ]
  },
  {
   "cell_type": "markdown",
   "metadata": {},
   "source": [
    "and now once many of the irrelevant features got excluded, reducing the degree of multicollinearity, p-values already appear to be indicative to the features having significant impact - only $x_4,x_6,x_8$ have p-values below 5%. And as we can recall those were the features used to construct the model generating the data"
   ]
  },
  {
   "cell_type": "code",
   "execution_count": 11,
   "metadata": {},
   "outputs": [
    {
     "name": "stdout",
     "output_type": "stream",
     "text": [
      "                            OLS Regression Results                            \n",
      "==============================================================================\n",
      "Dep. Variable:                      Y   R-squared:                       0.888\n",
      "Model:                            OLS   Adj. R-squared:                  0.867\n",
      "Method:                 Least Squares   F-statistic:                     42.23\n",
      "Date:                Wed, 20 Nov 2024   Prob (F-statistic):           7.91e-08\n",
      "Time:                        23:35:12   Log-Likelihood:                -21.329\n",
      "No. Observations:                  20   AIC:                             50.66\n",
      "Df Residuals:                      16   BIC:                             54.64\n",
      "Df Model:                           3                                         \n",
      "Covariance Type:            nonrobust                                         \n",
      "==============================================================================\n",
      "                 coef    std err          t      P>|t|      [0.025      0.975]\n",
      "------------------------------------------------------------------------------\n",
      "Intercept     -0.0949      0.188     -0.505      0.621      -0.493       0.304\n",
      "x4             1.0664      0.139      7.693      0.000       0.773       1.360\n",
      "x6             1.0189      0.216      4.708      0.000       0.560       1.478\n",
      "x8             1.1790      0.206      5.713      0.000       0.742       1.616\n",
      "==============================================================================\n",
      "Omnibus:                        2.920   Durbin-Watson:                   1.669\n",
      "Prob(Omnibus):                  0.232   Jarque-Bera (JB):                1.278\n",
      "Skew:                           0.534   Prob(JB):                        0.528\n",
      "Kurtosis:                       3.625   Cond. No.                         1.98\n",
      "==============================================================================\n",
      "\n",
      "Notes:\n",
      "[1] Standard Errors assume that the covariance matrix of the errors is correctly specified.\n"
     ]
    }
   ],
   "source": [
    "#if we keep just those, the R2 does not drop much and adjusted R2 even increase\n",
    "lm_best2 = smf.ols(formula = 'Y ~ x4 + x6 + x8', data = train).fit()\n",
    "print(lm_best2.summary())"
   ]
  },
  {
   "cell_type": "code",
   "execution_count": 12,
   "metadata": {},
   "outputs": [
    {
     "data": {
      "text/plain": [
       "0.8677268761018013"
      ]
     },
     "execution_count": 12,
     "metadata": {},
     "output_type": "execute_result"
    }
   ],
   "source": [
    "#out-of-sample validation R2 looks quite good now, higher than before and now pretty close to in-sample; \n",
    "#so sometimes feature selection based on p-values can work well, but only if multicollinearity is not too severe\n",
    "r2_score(valid.Y,lm_best2.predict(valid))"
   ]
  },
  {
   "cell_type": "code",
   "execution_count": null,
   "metadata": {},
   "outputs": [],
   "source": []
  }
 ],
 "metadata": {
  "anaconda-cloud": {},
  "kernelspec": {
   "display_name": "Python 3 (ipykernel)",
   "language": "python",
   "name": "python3"
  },
  "language_info": {
   "codemirror_mode": {
    "name": "ipython",
    "version": 3
   },
   "file_extension": ".py",
   "mimetype": "text/x-python",
   "name": "python",
   "nbconvert_exporter": "python",
   "pygments_lexer": "ipython3",
   "version": "3.9.19"
  }
 },
 "nbformat": 4,
 "nbformat_minor": 4
}
