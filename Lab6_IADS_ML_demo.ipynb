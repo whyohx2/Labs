{
 "cells": [
  {
   "cell_type": "markdown",
   "metadata": {},
   "source": [
    "## Case: Hand-written digit recognition"
   ]
  },
  {
   "cell_type": "code",
   "execution_count": 1,
   "metadata": {},
   "outputs": [
    {
     "name": "stdout",
     "output_type": "stream",
     "text": [
      "Collecting keras==2.6.0\n",
      "  Downloading keras-2.6.0-py2.py3-none-any.whl.metadata (1.3 kB)\n",
      "Downloading keras-2.6.0-py2.py3-none-any.whl (1.3 MB)\n",
      "\u001b[2K   \u001b[90m━━━━━━━━━━━━━━━━━━━━━━━━━━━━━━━━━━━━━━━━\u001b[0m \u001b[32m1.3/1.3 MB\u001b[0m \u001b[31m14.8 MB/s\u001b[0m eta \u001b[36m0:00:00\u001b[0m\n",
      "\u001b[?25hInstalling collected packages: keras\n",
      "Successfully installed keras-2.6.0\n",
      "Note: you may need to restart the kernel to use updated packages.\n"
     ]
    }
   ],
   "source": [
    "#pip install keras==2.6.0"
   ]
  },
  {
   "cell_type": "code",
   "execution_count": 2,
   "metadata": {},
   "outputs": [
    {
     "name": "stdout",
     "output_type": "stream",
     "text": [
      "Collecting tensorflow==2.9.1\n",
      "  Downloading tensorflow-2.9.1-cp39-cp39-macosx_10_14_x86_64.whl.metadata (3.0 kB)\n",
      "Collecting absl-py>=1.0.0 (from tensorflow==2.9.1)\n",
      "  Downloading absl_py-2.1.0-py3-none-any.whl.metadata (2.3 kB)\n",
      "Collecting astunparse>=1.6.0 (from tensorflow==2.9.1)\n",
      "  Downloading astunparse-1.6.3-py2.py3-none-any.whl.metadata (4.4 kB)\n",
      "Collecting flatbuffers<2,>=1.12 (from tensorflow==2.9.1)\n",
      "  Downloading flatbuffers-1.12-py2.py3-none-any.whl.metadata (872 bytes)\n",
      "Collecting gast<=0.4.0,>=0.2.1 (from tensorflow==2.9.1)\n",
      "  Downloading gast-0.4.0-py3-none-any.whl.metadata (1.1 kB)\n",
      "Collecting google-pasta>=0.1.1 (from tensorflow==2.9.1)\n",
      "  Downloading google_pasta-0.2.0-py3-none-any.whl.metadata (814 bytes)\n",
      "Collecting h5py>=2.9.0 (from tensorflow==2.9.1)\n",
      "  Downloading h5py-3.12.1-cp39-cp39-macosx_10_9_x86_64.whl.metadata (2.5 kB)\n",
      "Collecting keras-preprocessing>=1.1.1 (from tensorflow==2.9.1)\n",
      "  Downloading Keras_Preprocessing-1.1.2-py2.py3-none-any.whl.metadata (1.9 kB)\n",
      "Collecting libclang>=13.0.0 (from tensorflow==2.9.1)\n",
      "  Downloading libclang-18.1.1-py2.py3-none-macosx_10_9_x86_64.whl.metadata (5.2 kB)\n",
      "Requirement already satisfied: numpy>=1.20 in /Users/stanislav/opt/anaconda3/envs/IADS2024/lib/python3.9/site-packages (from tensorflow==2.9.1) (1.26.4)\n",
      "Collecting opt-einsum>=2.3.2 (from tensorflow==2.9.1)\n",
      "  Downloading opt_einsum-3.4.0-py3-none-any.whl.metadata (6.3 kB)\n",
      "Requirement already satisfied: packaging in /Users/stanislav/opt/anaconda3/envs/IADS2024/lib/python3.9/site-packages (from tensorflow==2.9.1) (24.1)\n",
      "Collecting protobuf<3.20,>=3.9.2 (from tensorflow==2.9.1)\n",
      "  Downloading protobuf-3.19.6-cp39-cp39-macosx_10_9_x86_64.whl.metadata (787 bytes)\n",
      "Requirement already satisfied: setuptools in /Users/stanislav/opt/anaconda3/envs/IADS2024/lib/python3.9/site-packages (from tensorflow==2.9.1) (72.1.0)\n",
      "Requirement already satisfied: six>=1.12.0 in /Users/stanislav/opt/anaconda3/envs/IADS2024/lib/python3.9/site-packages (from tensorflow==2.9.1) (1.16.0)\n",
      "Collecting termcolor>=1.1.0 (from tensorflow==2.9.1)\n",
      "  Downloading termcolor-2.5.0-py3-none-any.whl.metadata (6.1 kB)\n",
      "Requirement already satisfied: typing-extensions>=3.6.6 in /Users/stanislav/opt/anaconda3/envs/IADS2024/lib/python3.9/site-packages (from tensorflow==2.9.1) (4.11.0)\n",
      "Collecting wrapt>=1.11.0 (from tensorflow==2.9.1)\n",
      "  Downloading wrapt-1.16.0-cp39-cp39-macosx_10_9_x86_64.whl.metadata (6.6 kB)\n",
      "Collecting tensorflow-io-gcs-filesystem>=0.23.1 (from tensorflow==2.9.1)\n",
      "  Downloading tensorflow_io_gcs_filesystem-0.37.1-cp39-cp39-macosx_10_14_x86_64.whl.metadata (14 kB)\n",
      "Collecting grpcio<2.0,>=1.24.3 (from tensorflow==2.9.1)\n",
      "  Downloading grpcio-1.66.2-cp39-cp39-macosx_10_9_universal2.whl.metadata (3.9 kB)\n",
      "Collecting tensorboard<2.10,>=2.9 (from tensorflow==2.9.1)\n",
      "  Downloading tensorboard-2.9.1-py3-none-any.whl.metadata (1.9 kB)\n",
      "Collecting tensorflow-estimator<2.10.0,>=2.9.0rc0 (from tensorflow==2.9.1)\n",
      "  Downloading tensorflow_estimator-2.9.0-py2.py3-none-any.whl.metadata (1.3 kB)\n",
      "Collecting keras<2.10.0,>=2.9.0rc0 (from tensorflow==2.9.1)\n",
      "  Downloading keras-2.9.0-py2.py3-none-any.whl.metadata (1.3 kB)\n",
      "Requirement already satisfied: wheel<1.0,>=0.23.0 in /Users/stanislav/opt/anaconda3/envs/IADS2024/lib/python3.9/site-packages (from astunparse>=1.6.0->tensorflow==2.9.1) (0.43.0)\n",
      "Collecting google-auth<3,>=1.6.3 (from tensorboard<2.10,>=2.9->tensorflow==2.9.1)\n",
      "  Downloading google_auth-2.35.0-py2.py3-none-any.whl.metadata (4.7 kB)\n",
      "Collecting google-auth-oauthlib<0.5,>=0.4.1 (from tensorboard<2.10,>=2.9->tensorflow==2.9.1)\n",
      "  Downloading google_auth_oauthlib-0.4.6-py2.py3-none-any.whl.metadata (2.7 kB)\n",
      "Collecting markdown>=2.6.8 (from tensorboard<2.10,>=2.9->tensorflow==2.9.1)\n",
      "  Downloading Markdown-3.7-py3-none-any.whl.metadata (7.0 kB)\n",
      "Requirement already satisfied: requests<3,>=2.21.0 in /Users/stanislav/opt/anaconda3/envs/IADS2024/lib/python3.9/site-packages (from tensorboard<2.10,>=2.9->tensorflow==2.9.1) (2.32.3)\n",
      "Collecting tensorboard-data-server<0.7.0,>=0.6.0 (from tensorboard<2.10,>=2.9->tensorflow==2.9.1)\n",
      "  Downloading tensorboard_data_server-0.6.1-py3-none-macosx_10_9_x86_64.whl.metadata (1.1 kB)\n",
      "Collecting tensorboard-plugin-wit>=1.6.0 (from tensorboard<2.10,>=2.9->tensorflow==2.9.1)\n",
      "  Downloading tensorboard_plugin_wit-1.8.1-py3-none-any.whl.metadata (873 bytes)\n",
      "Collecting werkzeug>=1.0.1 (from tensorboard<2.10,>=2.9->tensorflow==2.9.1)\n",
      "  Downloading werkzeug-3.0.4-py3-none-any.whl.metadata (3.7 kB)\n",
      "Collecting cachetools<6.0,>=2.0.0 (from google-auth<3,>=1.6.3->tensorboard<2.10,>=2.9->tensorflow==2.9.1)\n",
      "  Downloading cachetools-5.5.0-py3-none-any.whl.metadata (5.3 kB)\n",
      "Collecting pyasn1-modules>=0.2.1 (from google-auth<3,>=1.6.3->tensorboard<2.10,>=2.9->tensorflow==2.9.1)\n",
      "  Downloading pyasn1_modules-0.4.1-py3-none-any.whl.metadata (3.5 kB)\n",
      "Collecting rsa<5,>=3.1.4 (from google-auth<3,>=1.6.3->tensorboard<2.10,>=2.9->tensorflow==2.9.1)\n",
      "  Downloading rsa-4.9-py3-none-any.whl.metadata (4.2 kB)\n",
      "Collecting requests-oauthlib>=0.7.0 (from google-auth-oauthlib<0.5,>=0.4.1->tensorboard<2.10,>=2.9->tensorflow==2.9.1)\n",
      "  Downloading requests_oauthlib-2.0.0-py2.py3-none-any.whl.metadata (11 kB)\n",
      "Requirement already satisfied: importlib-metadata>=4.4 in /Users/stanislav/opt/anaconda3/envs/IADS2024/lib/python3.9/site-packages (from markdown>=2.6.8->tensorboard<2.10,>=2.9->tensorflow==2.9.1) (7.0.1)\n",
      "Requirement already satisfied: charset-normalizer<4,>=2 in /Users/stanislav/opt/anaconda3/envs/IADS2024/lib/python3.9/site-packages (from requests<3,>=2.21.0->tensorboard<2.10,>=2.9->tensorflow==2.9.1) (3.3.2)\n",
      "Requirement already satisfied: idna<4,>=2.5 in /Users/stanislav/opt/anaconda3/envs/IADS2024/lib/python3.9/site-packages (from requests<3,>=2.21.0->tensorboard<2.10,>=2.9->tensorflow==2.9.1) (3.7)\n",
      "Requirement already satisfied: urllib3<3,>=1.21.1 in /Users/stanislav/opt/anaconda3/envs/IADS2024/lib/python3.9/site-packages (from requests<3,>=2.21.0->tensorboard<2.10,>=2.9->tensorflow==2.9.1) (2.2.2)\n",
      "Requirement already satisfied: certifi>=2017.4.17 in /Users/stanislav/opt/anaconda3/envs/IADS2024/lib/python3.9/site-packages (from requests<3,>=2.21.0->tensorboard<2.10,>=2.9->tensorflow==2.9.1) (2024.8.30)\n",
      "Requirement already satisfied: MarkupSafe>=2.1.1 in /Users/stanislav/opt/anaconda3/envs/IADS2024/lib/python3.9/site-packages (from werkzeug>=1.0.1->tensorboard<2.10,>=2.9->tensorflow==2.9.1) (2.1.3)\n",
      "Requirement already satisfied: zipp>=0.5 in /Users/stanislav/opt/anaconda3/envs/IADS2024/lib/python3.9/site-packages (from importlib-metadata>=4.4->markdown>=2.6.8->tensorboard<2.10,>=2.9->tensorflow==2.9.1) (3.17.0)\n",
      "Collecting pyasn1<0.7.0,>=0.4.6 (from pyasn1-modules>=0.2.1->google-auth<3,>=1.6.3->tensorboard<2.10,>=2.9->tensorflow==2.9.1)\n",
      "  Downloading pyasn1-0.6.1-py3-none-any.whl.metadata (8.4 kB)\n",
      "Collecting oauthlib>=3.0.0 (from requests-oauthlib>=0.7.0->google-auth-oauthlib<0.5,>=0.4.1->tensorboard<2.10,>=2.9->tensorflow==2.9.1)\n",
      "  Downloading oauthlib-3.2.2-py3-none-any.whl.metadata (7.5 kB)\n",
      "Downloading tensorflow-2.9.1-cp39-cp39-macosx_10_14_x86_64.whl (228.5 MB)\n",
      "\u001b[2K   \u001b[90m━━━━━━━━━━━━━━━━━━━━━━━━━━━━━━━━━━━━━━━━\u001b[0m \u001b[32m228.5/228.5 MB\u001b[0m \u001b[31m32.8 MB/s\u001b[0m eta \u001b[36m0:00:00\u001b[0m00:01\u001b[0m00:01\u001b[0m\n",
      "\u001b[?25hDownloading absl_py-2.1.0-py3-none-any.whl (133 kB)\n",
      "Downloading astunparse-1.6.3-py2.py3-none-any.whl (12 kB)\n",
      "Downloading flatbuffers-1.12-py2.py3-none-any.whl (15 kB)\n",
      "Downloading gast-0.4.0-py3-none-any.whl (9.8 kB)\n",
      "Downloading google_pasta-0.2.0-py3-none-any.whl (57 kB)\n",
      "Downloading grpcio-1.66.2-cp39-cp39-macosx_10_9_universal2.whl (10.8 MB)\n",
      "\u001b[2K   \u001b[90m━━━━━━━━━━━━━━━━━━━━━━━━━━━━━━━━━━━━━━━━\u001b[0m \u001b[32m10.8/10.8 MB\u001b[0m \u001b[31m41.8 MB/s\u001b[0m eta \u001b[36m0:00:00\u001b[0m \u001b[36m0:00:01\u001b[0m\n",
      "\u001b[?25hDownloading h5py-3.12.1-cp39-cp39-macosx_10_9_x86_64.whl (3.4 MB)\n",
      "\u001b[2K   \u001b[90m━━━━━━━━━━━━━━━━━━━━━━━━━━━━━━━━━━━━━━━━\u001b[0m \u001b[32m3.4/3.4 MB\u001b[0m \u001b[31m32.4 MB/s\u001b[0m eta \u001b[36m0:00:00\u001b[0m\n",
      "\u001b[?25hDownloading keras-2.9.0-py2.py3-none-any.whl (1.6 MB)\n",
      "\u001b[2K   \u001b[90m━━━━━━━━━━━━━━━━━━━━━━━━━━━━━━━━━━━━━━━━\u001b[0m \u001b[32m1.6/1.6 MB\u001b[0m \u001b[31m25.0 MB/s\u001b[0m eta \u001b[36m0:00:00\u001b[0m\n",
      "\u001b[?25hDownloading Keras_Preprocessing-1.1.2-py2.py3-none-any.whl (42 kB)\n",
      "Downloading libclang-18.1.1-py2.py3-none-macosx_10_9_x86_64.whl (26.5 MB)\n",
      "\u001b[2K   \u001b[90m━━━━━━━━━━━━━━━━━━━━━━━━━━━━━━━━━━━━━━━━\u001b[0m \u001b[32m26.5/26.5 MB\u001b[0m \u001b[31m41.0 MB/s\u001b[0m eta \u001b[36m0:00:00\u001b[0m00:01\u001b[0m00:01\u001b[0m\n",
      "\u001b[?25hDownloading opt_einsum-3.4.0-py3-none-any.whl (71 kB)\n",
      "Downloading protobuf-3.19.6-cp39-cp39-macosx_10_9_x86_64.whl (980 kB)\n",
      "\u001b[2K   \u001b[90m━━━━━━━━━━━━━━━━━━━━━━━━━━━━━━━━━━━━━━━━\u001b[0m \u001b[32m980.5/980.5 kB\u001b[0m \u001b[31m19.3 MB/s\u001b[0m eta \u001b[36m0:00:00\u001b[0m\n",
      "\u001b[?25hDownloading tensorboard-2.9.1-py3-none-any.whl (5.8 MB)\n",
      "\u001b[2K   \u001b[90m━━━━━━━━━━━━━━━━━━━━━━━━━━━━━━━━━━━━━━━━\u001b[0m \u001b[32m5.8/5.8 MB\u001b[0m \u001b[31m38.7 MB/s\u001b[0m eta \u001b[36m0:00:00\u001b[0m\n",
      "\u001b[?25hDownloading tensorflow_estimator-2.9.0-py2.py3-none-any.whl (438 kB)\n",
      "Downloading tensorflow_io_gcs_filesystem-0.37.1-cp39-cp39-macosx_10_14_x86_64.whl (2.5 MB)\n",
      "\u001b[2K   \u001b[90m━━━━━━━━━━━━━━━━━━━━━━━━━━━━━━━━━━━━━━━━\u001b[0m \u001b[32m2.5/2.5 MB\u001b[0m \u001b[31m31.2 MB/s\u001b[0m eta \u001b[36m0:00:00\u001b[0m\n",
      "\u001b[?25hDownloading termcolor-2.5.0-py3-none-any.whl (7.8 kB)\n",
      "Downloading wrapt-1.16.0-cp39-cp39-macosx_10_9_x86_64.whl (37 kB)\n",
      "Downloading google_auth-2.35.0-py2.py3-none-any.whl (208 kB)\n",
      "Downloading google_auth_oauthlib-0.4.6-py2.py3-none-any.whl (18 kB)\n",
      "Downloading Markdown-3.7-py3-none-any.whl (106 kB)\n",
      "Downloading tensorboard_data_server-0.6.1-py3-none-macosx_10_9_x86_64.whl (3.5 MB)\n",
      "\u001b[2K   \u001b[90m━━━━━━━━━━━━━━━━━━━━━━━━━━━━━━━━━━━━━━━━\u001b[0m \u001b[32m3.5/3.5 MB\u001b[0m \u001b[31m33.7 MB/s\u001b[0m eta \u001b[36m0:00:00\u001b[0m\n",
      "\u001b[?25hDownloading tensorboard_plugin_wit-1.8.1-py3-none-any.whl (781 kB)\n",
      "\u001b[2K   \u001b[90m━━━━━━━━━━━━━━━━━━━━━━━━━━━━━━━━━━━━━━━━\u001b[0m \u001b[32m781.3/781.3 kB\u001b[0m \u001b[31m14.0 MB/s\u001b[0m eta \u001b[36m0:00:00\u001b[0m\n",
      "\u001b[?25hDownloading werkzeug-3.0.4-py3-none-any.whl (227 kB)\n",
      "Downloading cachetools-5.5.0-py3-none-any.whl (9.5 kB)\n",
      "Downloading pyasn1_modules-0.4.1-py3-none-any.whl (181 kB)\n",
      "Downloading requests_oauthlib-2.0.0-py2.py3-none-any.whl (24 kB)\n",
      "Downloading rsa-4.9-py3-none-any.whl (34 kB)\n",
      "Downloading oauthlib-3.2.2-py3-none-any.whl (151 kB)\n",
      "Downloading pyasn1-0.6.1-py3-none-any.whl (83 kB)\n",
      "Installing collected packages: tensorboard-plugin-wit, libclang, keras, flatbuffers, wrapt, werkzeug, termcolor, tensorflow-io-gcs-filesystem, tensorflow-estimator, tensorboard-data-server, pyasn1, protobuf, opt-einsum, oauthlib, keras-preprocessing, h5py, grpcio, google-pasta, gast, cachetools, astunparse, absl-py, rsa, requests-oauthlib, pyasn1-modules, markdown, google-auth, google-auth-oauthlib, tensorboard, tensorflow\n",
      "  Attempting uninstall: keras\n",
      "    Found existing installation: keras 2.6.0\n",
      "    Uninstalling keras-2.6.0:\n",
      "      Successfully uninstalled keras-2.6.0\n",
      "Successfully installed absl-py-2.1.0 astunparse-1.6.3 cachetools-5.5.0 flatbuffers-1.12 gast-0.4.0 google-auth-2.35.0 google-auth-oauthlib-0.4.6 google-pasta-0.2.0 grpcio-1.66.2 h5py-3.12.1 keras-2.9.0 keras-preprocessing-1.1.2 libclang-18.1.1 markdown-3.7 oauthlib-3.2.2 opt-einsum-3.4.0 protobuf-3.19.6 pyasn1-0.6.1 pyasn1-modules-0.4.1 requests-oauthlib-2.0.0 rsa-4.9 tensorboard-2.9.1 tensorboard-data-server-0.6.1 tensorboard-plugin-wit-1.8.1 tensorflow-2.9.1 tensorflow-estimator-2.9.0 tensorflow-io-gcs-filesystem-0.37.1 termcolor-2.5.0 werkzeug-3.0.4 wrapt-1.16.0\n",
      "Note: you may need to restart the kernel to use updated packages.\n"
     ]
    }
   ],
   "source": [
    "#pip install tensorflow==2.9.1"
   ]
  },
  {
   "cell_type": "code",
   "execution_count": 4,
   "metadata": {},
   "outputs": [
    {
     "name": "stdout",
     "output_type": "stream",
     "text": [
      "Collecting statsmodels\n",
      "  Downloading statsmodels-0.14.4-cp39-cp39-macosx_10_9_x86_64.whl.metadata (9.2 kB)\n",
      "Requirement already satisfied: numpy<3,>=1.22.3 in /Users/stanislav/opt/anaconda3/envs/IADS2024/lib/python3.9/site-packages (from statsmodels) (1.26.4)\n",
      "Requirement already satisfied: scipy!=1.9.2,>=1.8 in /Users/stanislav/opt/anaconda3/envs/IADS2024/lib/python3.9/site-packages (from statsmodels) (1.12.0)\n",
      "Requirement already satisfied: pandas!=2.1.0,>=1.4 in /Users/stanislav/opt/anaconda3/envs/IADS2024/lib/python3.9/site-packages (from statsmodels) (2.2.2)\n",
      "Collecting patsy>=0.5.6 (from statsmodels)\n",
      "  Using cached patsy-0.5.6-py2.py3-none-any.whl.metadata (3.5 kB)\n",
      "Requirement already satisfied: packaging>=21.3 in /Users/stanislav/opt/anaconda3/envs/IADS2024/lib/python3.9/site-packages (from statsmodels) (24.1)\n",
      "Requirement already satisfied: python-dateutil>=2.8.2 in /Users/stanislav/opt/anaconda3/envs/IADS2024/lib/python3.9/site-packages (from pandas!=2.1.0,>=1.4->statsmodels) (2.9.0.post0)\n",
      "Requirement already satisfied: pytz>=2020.1 in /Users/stanislav/opt/anaconda3/envs/IADS2024/lib/python3.9/site-packages (from pandas!=2.1.0,>=1.4->statsmodels) (2024.1)\n",
      "Requirement already satisfied: tzdata>=2022.7 in /Users/stanislav/opt/anaconda3/envs/IADS2024/lib/python3.9/site-packages (from pandas!=2.1.0,>=1.4->statsmodels) (2023.3)\n",
      "Requirement already satisfied: six in /Users/stanislav/opt/anaconda3/envs/IADS2024/lib/python3.9/site-packages (from patsy>=0.5.6->statsmodels) (1.16.0)\n",
      "Downloading statsmodels-0.14.4-cp39-cp39-macosx_10_9_x86_64.whl (10.2 MB)\n",
      "\u001b[2K   \u001b[90m━━━━━━━━━━━━━━━━━━━━━━━━━━━━━━━━━━━━━━━━\u001b[0m \u001b[32m10.2/10.2 MB\u001b[0m \u001b[31m20.1 MB/s\u001b[0m eta \u001b[36m0:00:00\u001b[0m \u001b[36m0:00:01\u001b[0m\n",
      "\u001b[?25hUsing cached patsy-0.5.6-py2.py3-none-any.whl (233 kB)\n",
      "Installing collected packages: patsy, statsmodels\n",
      "Successfully installed patsy-0.5.6 statsmodels-0.14.4\n",
      "Note: you may need to restart the kernel to use updated packages.\n"
     ]
    }
   ],
   "source": [
    "pip install statsmodels"
   ]
  },
  {
   "cell_type": "code",
   "execution_count": 5,
   "metadata": {},
   "outputs": [],
   "source": [
    "# Load the libraries.\n",
    "\n",
    "%matplotlib inline\n",
    "import warnings\n",
    "import numpy as np\n",
    "import pandas as pd\n",
    "import datetime as dt  \n",
    "from numpy import random\n",
    "from scipy import stats\n",
    "import matplotlib.pyplot as plt\n",
    "import statsmodels as sm\n",
    "import statsmodels.formula.api as smf\n",
    "import statsmodels.api as sma\n",
    "from statsmodels.graphics.api import abline_plot\n",
    "import numpy.linalg as linalg\n",
    "from mpl_toolkits.mplot3d import Axes3D\n",
    "warnings.simplefilter('ignore')\n",
    "from sklearn.model_selection import train_test_split\n",
    "from sklearn.metrics import mean_squared_error\n",
    "from sklearn.preprocessing import MinMaxScaler\n",
    "from keras.models import Sequential\n",
    "from keras.layers import Dense\n",
    "from keras.layers import Dropout\n",
    "from keras.utils import np_utils\n",
    "from keras.datasets import mnist\n",
    "\n",
    "%matplotlib inline"
   ]
  },
  {
   "cell_type": "code",
   "execution_count": 6,
   "metadata": {},
   "outputs": [],
   "source": [
    "from keras.datasets import mnist"
   ]
  },
  {
   "cell_type": "code",
   "execution_count": 7,
   "metadata": {},
   "outputs": [],
   "source": [
    "from sklearn.metrics import accuracy_score\n",
    "from sklearn.preprocessing import StandardScaler\n",
    "from sklearn.tree import DecisionTreeClassifier ## sklearn decision trees\n",
    "from sklearn.ensemble import RandomForestClassifier ## sklearn random forests \n",
    "from sklearn.linear_model import LogisticRegression"
   ]
  },
  {
   "cell_type": "markdown",
   "metadata": {},
   "source": [
    "Import the LeCun et al. MNIST dataset of handwritten characters"
   ]
  },
  {
   "cell_type": "code",
   "execution_count": 8,
   "metadata": {},
   "outputs": [
    {
     "data": {
      "image/png": "[encoded data removed]",
      "text/plain": [
       "<Figure size 640x480 with 1 Axes>"
      ]
     },
     "metadata": {},
     "output_type": "display_data"
    },
    {
     "name": "stdout",
     "output_type": "stream",
     "text": [
      "Training label(s): [5]\n"
     ]
    }
   ],
   "source": [
    "(X_train, y_train), (X_test, y_test) = mnist.load_data()\n",
    "\n",
    "num_digits = 1\n",
    "for i in range(num_digits):\n",
    "    plt.subplot(1, num_digits, i+1)\n",
    "    plt.imshow(X_train[i], cmap=plt.get_cmap('gray_r'))\n",
    "#    plt.axis('off')\n",
    "plt.show()\n",
    "print('Training label(s): %s' % (y_train[0:num_digits],))"
   ]
  },
  {
   "cell_type": "code",
   "execution_count": 9,
   "metadata": {},
   "outputs": [
    {
     "data": {
      "text/plain": [
       "(60000, 28, 28)"
      ]
     },
     "execution_count": 9,
     "metadata": {},
     "output_type": "execute_result"
    }
   ],
   "source": [
    "X_train.shape"
   ]
  },
  {
   "cell_type": "code",
   "execution_count": 10,
   "metadata": {},
   "outputs": [
    {
     "data": {
      "text/plain": [
       "(60000,)"
      ]
     },
     "execution_count": 10,
     "metadata": {},
     "output_type": "execute_result"
    }
   ],
   "source": [
    "y_train.shape"
   ]
  },
  {
   "cell_type": "code",
   "execution_count": 11,
   "metadata": {},
   "outputs": [
    {
     "data": {
      "text/plain": [
       "5"
      ]
     },
     "execution_count": 11,
     "metadata": {},
     "output_type": "execute_result"
    }
   ],
   "source": [
    "y_train[0]"
   ]
  },
  {
   "cell_type": "code",
   "execution_count": 12,
   "metadata": {},
   "outputs": [
    {
     "data": {
      "text/plain": [
       "array([[  1, 154, 253,  90,   0,   0,   0,   0,   0,   0],\n",
       "       [  0, 139, 253, 190,   2,   0,   0,   0,   0,   0],\n",
       "       [  0,  11, 190, 253,  70,   0,   0,   0,   0,   0],\n",
       "       [  0,   0,  35, 241, 225, 160, 108,   1,   0,   0],\n",
       "       [  0,   0,   0,  81, 240, 253, 253, 119,  25,   0],\n",
       "       [  0,   0,   0,   0,  45, 186, 253, 253, 150,  27],\n",
       "       [  0,   0,   0,   0,   0,  16,  93, 252, 253, 187],\n",
       "       [  0,   0,   0,   0,   0,   0,   0, 249, 253, 249],\n",
       "       [  0,   0,   0,   0,  46, 130, 183, 253, 253, 207],\n",
       "       [  0,   0,  39, 148, 229, 253, 253, 253, 250, 182]], dtype=uint8)"
      ]
     },
     "execution_count": 12,
     "metadata": {},
     "output_type": "execute_result"
    }
   ],
   "source": [
    "X_train[0,10:20,10:20]"
   ]
  },
  {
   "cell_type": "code",
   "execution_count": 13,
   "metadata": {},
   "outputs": [
    {
     "data": {
      "text/plain": [
       "array([3, 5, 3, 6, 1, 7, 2, 8, 6, 9], dtype=uint8)"
      ]
     },
     "execution_count": 13,
     "metadata": {},
     "output_type": "execute_result"
    }
   ],
   "source": [
    "y_train[10:20]"
   ]
  },
  {
   "cell_type": "markdown",
   "metadata": {},
   "source": [
    "### These are grey scale images that can be converted to dataframes\n",
    "* The darker the pixel, the larger the value in the cell.  \n",
    "* The data is 28 X 28 pixel grids of 0-255 grey scale"
   ]
  },
  {
   "cell_type": "code",
   "execution_count": 14,
   "metadata": {},
   "outputs": [
    {
     "data": {
      "image/png": "[encoded data removed]",
      "text/plain": [
       "<Figure size 640x480 with 5 Axes>"
      ]
     },
     "metadata": {},
     "output_type": "display_data"
    },
    {
     "name": "stdout",
     "output_type": "stream",
     "text": [
      "Training labels: [5 0 4 1 9]\n"
     ]
    }
   ],
   "source": [
    "num_digits = 5\n",
    "for i in range(num_digits):\n",
    "    plt.subplot(1, num_digits, i+1)\n",
    "    plt.imshow(X_train[i], cmap=plt.get_cmap('gray_r'))\n",
    "#    plt.axis('off')\n",
    "plt.show()\n",
    "print('Training labels: %s' % (y_train[0:num_digits],))"
   ]
  },
  {
   "cell_type": "code",
   "execution_count": 15,
   "metadata": {},
   "outputs": [],
   "source": [
    "# Preprocess the NMIST data, which are stored as 28 X 28 pixels of grayscale between 1 and 255.\n",
    "\n",
    "num_pixels = X_train.shape[1] * X_train.shape[2]\n",
    "X_train_pp = (X_train.reshape(X_train.shape[0], num_pixels).astype('float32')) / 255\n",
    "X_test_pp = (X_test.reshape(X_test.shape[0], num_pixels).astype('float32')) / 255"
   ]
  },
  {
   "cell_type": "code",
   "execution_count": 16,
   "metadata": {},
   "outputs": [],
   "source": [
    "# Keras needs the labels as categorical matrics.\n",
    "\n",
    "y_train_pp = np_utils.to_categorical(y_train)\n",
    "y_test_pp = np_utils.to_categorical(y_test)\n",
    "num_classes = y_test_pp.shape[1]"
   ]
  },
  {
   "cell_type": "code",
   "execution_count": 17,
   "metadata": {},
   "outputs": [
    {
     "data": {
      "text/plain": [
       "7"
      ]
     },
     "execution_count": 17,
     "metadata": {},
     "output_type": "execute_result"
    }
   ],
   "source": [
    "y_test[0]"
   ]
  },
  {
   "cell_type": "code",
   "execution_count": 18,
   "metadata": {},
   "outputs": [
    {
     "data": {
      "text/plain": [
       "784"
      ]
     },
     "execution_count": 18,
     "metadata": {},
     "output_type": "execute_result"
    }
   ],
   "source": [
    "28**2"
   ]
  },
  {
   "cell_type": "code",
   "execution_count": 19,
   "metadata": {},
   "outputs": [
    {
     "data": {
      "text/plain": [
       "array([0., 0., 0., 0., 0., 0., 0., 1., 0., 0.], dtype=float32)"
      ]
     },
     "execution_count": 19,
     "metadata": {},
     "output_type": "execute_result"
    }
   ],
   "source": [
    "y_test_pp[0,:]"
   ]
  },
  {
   "cell_type": "markdown",
   "metadata": {},
   "source": [
    "### Logistic regression"
   ]
  },
  {
   "cell_type": "code",
   "execution_count": 20,
   "metadata": {},
   "outputs": [
    {
     "name": "stdout",
     "output_type": "stream",
     "text": [
      "0.9256\n"
     ]
    }
   ],
   "source": [
    "#logistic regression\n",
    "classifier = LogisticRegression()\n",
    "classifier.fit(X_train_pp, y_train)\n",
    "\n",
    "print(classifier.score(X_test_pp, y_test))"
   ]
  },
  {
   "cell_type": "markdown",
   "metadata": {},
   "source": [
    "### Random forest"
   ]
  },
  {
   "cell_type": "code",
   "execution_count": 21,
   "metadata": {},
   "outputs": [
    {
     "name": "stdout",
     "output_type": "stream",
     "text": [
      "Mean accuracy score: 0.947\n"
     ]
    }
   ],
   "source": [
    "#Random forest\n",
    "rf = RandomForestClassifier(max_depth=10, oob_score=True, random_state=123456)\n",
    "rf.fit(X_train_pp, y_train)\n",
    "\n",
    "predicted = rf.predict(X_test_pp)\n",
    "accuracy = accuracy_score(y_test, predicted)\n",
    "print(f'Mean accuracy score: {accuracy:.3}')"
   ]
  },
  {
   "cell_type": "markdown",
   "metadata": {},
   "source": [
    "### Neural network"
   ]
  },
  {
   "cell_type": "code",
   "execution_count": 22,
   "metadata": {},
   "outputs": [
    {
     "name": "stdout",
     "output_type": "stream",
     "text": [
      "Epoch 1/10\n"
     ]
    },
    {
     "name": "stderr",
     "output_type": "stream",
     "text": [
      "2024-10-10 10:38:45.547700: I tensorflow/core/platform/cpu_feature_guard.cc:193] This TensorFlow binary is optimized with oneAPI Deep Neural Network Library (oneDNN) to use the following CPU instructions in performance-critical operations:  AVX2 FMA\n",
      "To enable them in other operations, rebuild TensorFlow with the appropriate compiler flags.\n"
     ]
    },
    {
     "name": "stdout",
     "output_type": "stream",
     "text": [
      "300/300 - 1s - loss: 0.3052 - categorical_accuracy: 0.9093 - val_loss: 0.1299 - val_categorical_accuracy: 0.9609 - 1s/epoch - 4ms/step\n",
      "Epoch 2/10\n",
      "300/300 - 1s - loss: 0.1084 - categorical_accuracy: 0.9670 - val_loss: 0.0944 - val_categorical_accuracy: 0.9711 - 833ms/epoch - 3ms/step\n",
      "Epoch 3/10\n",
      "300/300 - 1s - loss: 0.0726 - categorical_accuracy: 0.9777 - val_loss: 0.0754 - val_categorical_accuracy: 0.9771 - 819ms/epoch - 3ms/step\n",
      "Epoch 4/10\n",
      "300/300 - 1s - loss: 0.0536 - categorical_accuracy: 0.9828 - val_loss: 0.0775 - val_categorical_accuracy: 0.9773 - 838ms/epoch - 3ms/step\n",
      "Epoch 5/10\n",
      "300/300 - 1s - loss: 0.0405 - categorical_accuracy: 0.9870 - val_loss: 0.0753 - val_categorical_accuracy: 0.9784 - 850ms/epoch - 3ms/step\n",
      "Epoch 6/10\n",
      "300/300 - 1s - loss: 0.0319 - categorical_accuracy: 0.9894 - val_loss: 0.0775 - val_categorical_accuracy: 0.9778 - 855ms/epoch - 3ms/step\n",
      "Epoch 7/10\n",
      "300/300 - 1s - loss: 0.0276 - categorical_accuracy: 0.9911 - val_loss: 0.0880 - val_categorical_accuracy: 0.9768 - 861ms/epoch - 3ms/step\n",
      "Epoch 8/10\n",
      "300/300 - 1s - loss: 0.0219 - categorical_accuracy: 0.9930 - val_loss: 0.0795 - val_categorical_accuracy: 0.9800 - 876ms/epoch - 3ms/step\n",
      "Epoch 9/10\n",
      "300/300 - 1s - loss: 0.0199 - categorical_accuracy: 0.9932 - val_loss: 0.1052 - val_categorical_accuracy: 0.9758 - 875ms/epoch - 3ms/step\n",
      "Epoch 10/10\n",
      "300/300 - 1s - loss: 0.0205 - categorical_accuracy: 0.9933 - val_loss: 0.0863 - val_categorical_accuracy: 0.9777 - 911ms/epoch - 3ms/step\n",
      "313/313 [==============================] - 0s 983us/step\n"
     ]
    }
   ],
   "source": [
    "# Define a simple MLP with three hidden layers of 150, 300, and 150 neurons, respectively.\n",
    "# First line of code: set a seed for replication.\n",
    "# Second: Define the model to be sequential using Keras.\n",
    "# Next three lines: \n",
    "    # Define the MLP, where number units sets the number of neurons\n",
    "    # input_dim is the dimension of the data flowing in and passing through the layers.  It remains fixed.\n",
    "    # activation is the sigmoidal shape of a neuron, here using the rectified linear unit or 'relu'\n",
    "# Final line: \n",
    "    # We map into the number of classes we have for the digits with the softmax activation, which just chooses\n",
    "    # the most probable.\n",
    "    #use soft-max activation: https://en.wikipedia.org/wiki/Softmax_function\n",
    "\n",
    "np.random.seed(2019)\n",
    "model = Sequential()\n",
    "model.add(Dense(units=300, input_dim=num_pixels, activation='relu'))\n",
    "model.add(Dense(units=150, activation='relu'))\n",
    "model.add(Dense(units=150, activation='relu'))\n",
    "model.add(Dense(units=100, activation='relu'))\n",
    "model.add(Dense(units=50, activation='relu'))\n",
    "model.add(Dense(units=num_classes, activation='softmax'))\n",
    "\n",
    "# Compile, fit, and generate scores and predicted probabilities.\n",
    "model.compile(loss='categorical_crossentropy', optimizer='adam', metrics=['categorical_accuracy'])\n",
    "model.fit(X_train_pp, y_train_pp, validation_data=(X_test_pp, y_test_pp), epochs=10, batch_size=200, verbose=2)\n",
    "scores = model.evaluate(X_test_pp, y_test_pp, verbose=0)\n",
    "prob = model.predict(X_test_pp)"
   ]
  },
  {
   "cell_type": "code",
   "execution_count": 23,
   "metadata": {},
   "outputs": [
    {
     "data": {
      "image/png": "[encoded data removed]",
      "text/plain": [
       "<Figure size 640x480 with 1 Axes>"
      ]
     },
     "metadata": {},
     "output_type": "display_data"
    },
    {
     "name": "stdout",
     "output_type": "stream",
     "text": [
      "Classified as a 6 with probability 0.999994\n"
     ]
    }
   ],
   "source": [
    "# Examine the performance of the 50th image in the test set.\n",
    "\n",
    "img = 50\n",
    "plt.imshow(X_test[img], cmap=plt.get_cmap('gray_r'))\n",
    "#plt.axis('off')\n",
    "plt.show()\n",
    "print('Classified as a %d with probability %f' % (prob[img].argmax(), max(prob[img])))"
   ]
  },
  {
   "cell_type": "code",
   "execution_count": 24,
   "metadata": {},
   "outputs": [
    {
     "name": "stdout",
     "output_type": "stream",
     "text": [
      "Accuracy Rate: 0.977700\n"
     ]
    }
   ],
   "source": [
    "# Standard measures of performance.\n",
    "# First the accuracy rate on the test or validation set.\n",
    "\n",
    "from sklearn.metrics import accuracy_score\n",
    "print('Accuracy Rate: %f' % accuracy_score(y_test, prob.argmax(axis = 1)))"
   ]
  },
  {
   "cell_type": "code",
   "execution_count": 25,
   "metadata": {},
   "outputs": [
    {
     "name": "stdout",
     "output_type": "stream",
     "text": [
      "Confusion matrix:\n",
      "[[ 966    0    0    2    0    1    4    2    4    1]\n",
      " [   0 1127    1    2    0    1    2    2    0    0]\n",
      " [   4    3 1009    2    1    0    0    8    4    1]\n",
      " [   0    0    2  989    0    4    0    5    5    5]\n",
      " [   0    1    2    0  946    1    5    7    1   19]\n",
      " [   1    1    0   10    0  873    2    0    3    2]\n",
      " [   3    2    1    1    6   17  926    0    2    0]\n",
      " [   0    3    5    2    0    0    0 1004    2   12]\n",
      " [   3    0    1    3    1    7    1    2  953    3]\n",
      " [   3    2    0    3    6    2    0    3    6  984]]\n"
     ]
    }
   ],
   "source": [
    "# Next the confusion matrix, which shows correct and incorrect classification on the test set.\n",
    "\n",
    "from sklearn.metrics import confusion_matrix\n",
    "print('Confusion matrix:\\n%s' % confusion_matrix(y_test, prob.argmax(axis = 1)))"
   ]
  },
  {
   "cell_type": "code",
   "execution_count": 26,
   "metadata": {},
   "outputs": [
    {
     "name": "stdout",
     "output_type": "stream",
     "text": [
      "Classification Report:\n",
      "              precision    recall  f1-score   support\n",
      "\n",
      "           0       0.99      0.99      0.99       980\n",
      "           1       0.99      0.99      0.99      1135\n",
      "           2       0.99      0.98      0.98      1032\n",
      "           3       0.98      0.98      0.98      1010\n",
      "           4       0.99      0.96      0.97       982\n",
      "           5       0.96      0.98      0.97       892\n",
      "           6       0.99      0.97      0.98       958\n",
      "           7       0.97      0.98      0.97      1028\n",
      "           8       0.97      0.98      0.98       974\n",
      "           9       0.96      0.98      0.97      1009\n",
      "\n",
      "    accuracy                           0.98     10000\n",
      "   macro avg       0.98      0.98      0.98     10000\n",
      "weighted avg       0.98      0.98      0.98     10000\n",
      "\n"
     ]
    }
   ],
   "source": [
    "# Next a classification report.\n",
    "\n",
    "from sklearn.metrics import classification_report\n",
    "print('Classification Report:')\n",
    "print(classification_report(y_test, prob.argmax(axis = 1)))"
   ]
  },
  {
   "cell_type": "code",
   "execution_count": 27,
   "metadata": {},
   "outputs": [
    {
     "data": {
      "text/plain": [
       "array([ 151,  217,  247,  339,  340,  445,  495,  582,  684,  786,  877,\n",
       "        885,  965, 1003, 1014, 1039, 1182, 1226, 1232, 1247, 1260, 1296,\n",
       "       1393, 1414, 1425, 1482, 1530, 1553, 1554, 1709, 1717, 1822, 1878,\n",
       "       1901, 1982, 2049, 2098, 2135, 2293, 2387, 2405, 2406, 2422, 2433,\n",
       "       2454, 2597, 2607, 2648, 2654, 2810, 2863, 2921, 2939, 3422, 3451,\n",
       "       3503, 3520, 3558, 3567, 3688, 3811, 3838, 3941, 4078, 4163, 4360,\n",
       "       4384, 4488, 4497, 4536, 4547, 4761, 4807, 4823, 4890, 5138, 5199,\n",
       "       5228, 5749, 5757, 5913, 5937, 5972, 5997, 6166, 6558, 6598, 6605,\n",
       "       6641, 6735, 6847, 7179, 7481, 7921, 8059, 9009, 9015, 9024, 9530,\n",
       "       9587, 9642, 9679, 9755, 9768, 9779, 9792, 9793])"
      ]
     },
     "execution_count": 27,
     "metadata": {},
     "output_type": "execute_result"
    }
   ],
   "source": [
    "# Finally, identify cases that failed.\n",
    "\n",
    "errors=(y_test - prob.argmax(axis = 1) > 0).nonzero()[0]; errors"
   ]
  },
  {
   "cell_type": "code",
   "execution_count": 28,
   "metadata": {},
   "outputs": [
    {
     "data": {
      "image/png": "[encoded data removed]",
      "text/plain": [
       "<Figure size 640x480 with 1 Axes>"
      ]
     },
     "metadata": {},
     "output_type": "display_data"
    },
    {
     "name": "stdout",
     "output_type": "stream",
     "text": [
      "Classified as a 8 with probability 0.654104\n"
     ]
    }
   ],
   "source": [
    "img = errors[0]\n",
    "plt.imshow(X_test[img], cmap=plt.get_cmap('gray_r'))\n",
    "#plt.axis('off')\n",
    "plt.show()\n",
    "print('Classified as a %d with probability %f' % (prob[img].argmax(), max(prob[img])))"
   ]
  },
  {
   "cell_type": "code",
   "execution_count": null,
   "metadata": {},
   "outputs": [],
   "source": [
    "y_test[img]"
   ]
  },
  {
   "cell_type": "code",
   "execution_count": null,
   "metadata": {},
   "outputs": [],
   "source": []
  }
 ],
 "metadata": {
  "anaconda-cloud": {},
  "kernelspec": {
   "display_name": "Python 3 (ipykernel)",
   "language": "python",
   "name": "python3"
  },
  "language_info": {
   "codemirror_mode": {
    "name": "ipython",
    "version": 3
   },
   "file_extension": ".py",
   "mimetype": "text/x-python",
   "name": "python",
   "nbconvert_exporter": "python",
   "pygments_lexer": "ipython3",
   "version": "3.9.19"
  }
 },
 "nbformat": 4,
 "nbformat_minor": 4
}
